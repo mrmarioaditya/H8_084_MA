{
 "cells": [
  {
   "cell_type": "markdown",
   "id": "ef04b98a",
   "metadata": {},
   "source": [
    "# Introduction"
   ]
  },
  {
   "cell_type": "markdown",
   "id": "40783e39",
   "metadata": {},
   "source": [
    "## Penjelasan Data"
   ]
  },
  {
   "cell_type": "markdown",
   "id": "de843e76",
   "metadata": {},
   "source": [
    "Data tersebut terkait dengan kampanye pemasaran langsung dari lembaga perbankan Portugis. Kampanye pemasaran didasarkan pada panggilan telepon. Seringkali, lebih dari satu kontak ke klien yang sama diperlukan, untuk mengakses apakah produk (deposito berjangka bank) akan \"yes\" (ya) atau \"no\" (tidak) berlangganan."
   ]
  },
  {
   "cell_type": "markdown",
   "id": "32239464",
   "metadata": {},
   "source": [
    "## Penjelasan Atribut"
   ]
  },
  {
   "cell_type": "markdown",
   "id": "5f37e0e7",
   "metadata": {},
   "source": [
    "Daftar Atribut Kategorikal: <br>\n",
    "1. job <br>\n",
    "(\"admin.\",\"blue-collar\",\"entrepreneur\",\"housemaid\",\"management\",\"retired\",\"self-employed\",\"services\",\"student\",\"technician\",\"unemployed\",\"unknown\")\n",
    "2. marital <br>\n",
    "(\"divorced\",\"married\",\"single\",\"unknown\") <br>\n",
    "note: \"divorced\" means divorced or widowed\n",
    "3. education <br>\n",
    "(\"basic.4y\",\"basic.6y\",\"basic.9y\",\"high.school\",\"illiterate\",\"professional.course\",\"university.degree\",\"unknown\")\n",
    "4. default <br>\n",
    "(\"no\",\"yes\",\"unknown\")\n",
    "5. housing <br>\n",
    "(\"no\",\"yes\",\"unknown\")\n",
    "6. loan <br>\n",
    "(\"no\",\"yes\",\"unknown\")\n",
    "7. contact <br>\n",
    "(\"cellular\",\"telephone\")\n",
    "9. month <br>\n",
    "(\"jan\", \"feb\", \"mar\", ..., \"nov\", \"dec\")\n",
    "10. day_of_week <br>\n",
    "(\"mon\",\"tue\",\"wed\",\"thu\",\"fri\")\n",
    "11. poutcome <br>\n",
    "(\"failure\",\"nonexistent\",\"success\")\n",
    "12. y (target) <br>\n",
    "(\"yes\",\"no\")\n",
    "\n",
    "Daftar Atribut Numerikal: <br>\n",
    "1. Age <br>\n",
    "2. duration (in seconds) <br>\n",
    "3. campaign <br>\n",
    "4. pdays <br>\n",
    "(999 means client was not previously contacted)\n",
    "5. previous <br>\n",
    "6. emp.var.rate <br>\n",
    "7. cons.price.idx <br>\n",
    "8. cons.conf.idx <br>\n",
    "9. euribor3m <br>\n",
    "10. nr.eployed <br>"
   ]
  },
  {
   "cell_type": "markdown",
   "id": "f79c4ce4",
   "metadata": {},
   "source": [
    "# Install and Import Required Libraries"
   ]
  },
  {
   "cell_type": "code",
   "execution_count": 2,
   "id": "bbe5339f",
   "metadata": {},
   "outputs": [],
   "source": [
    "# Data processing\n",
    "import pandas as pd\n",
    "import numpy as np\n",
    "\n",
    "# visualization tools\n",
    "import matplotlib.pyplot as plt\n",
    "import seaborn as sns\n",
    "\n",
    "# Machine learning process\n",
    "from sklearn.model_selection import train_test_split, cross_val_score, GridSearchCV, KFold\n",
    "from sklearn.preprocessing import LabelEncoder, MinMaxScaler, StandardScaler\n",
    "from sklearn.impute import SimpleImputer\n",
    "from sklearn.pipeline import Pipeline\n",
    "from sklearn.naive_bayes import GaussianNB\n",
    "from sklearn.tree import DecisionTreeClassifier\n",
    "from sklearn.neighbors import KNeighborsClassifier\n",
    "from sklearn.ensemble import RandomForestClassifier\n",
    "from sklearn.svm import SVC\n",
    "from sklearn.linear_model import LogisticRegression\n",
    "from sklearn import metrics\n",
    "\n",
    "\n",
    "# features analysis libraries\n",
    "from sklearn.feature_selection import SelectKBest\n",
    "from sklearn.feature_selection import f_classif\n",
    "from sklearn.feature_selection import chi2,mutual_info_classif\n",
    "from sklearn.decomposition import PCA\n",
    "\n",
    "%matplotlib inline"
   ]
  },
  {
   "cell_type": "markdown",
   "id": "9cd3cba1",
   "metadata": {},
   "source": [
    "# Data Loading"
   ]
  },
  {
   "cell_type": "markdown",
   "id": "70ed28a5",
   "metadata": {},
   "source": [
    "## Bank Additional"
   ]
  },
  {
   "cell_type": "code",
   "execution_count": 5,
   "id": "531510bd",
   "metadata": {},
   "outputs": [],
   "source": [
    "bank_df = pd.read_excel('./Dataset/bank-additional/bank-additional-full.xlsx')\n",
    "test_bank_df = pd.read_excel('./Dataset/bank-additional/bank-additional.xlsx')"
   ]
  },
  {
   "cell_type": "code",
   "execution_count": 6,
   "id": "95f3b4dd",
   "metadata": {},
   "outputs": [
    {
     "data": {
      "text/html": [
       "<div>\n",
       "<style scoped>\n",
       "    .dataframe tbody tr th:only-of-type {\n",
       "        vertical-align: middle;\n",
       "    }\n",
       "\n",
       "    .dataframe tbody tr th {\n",
       "        vertical-align: top;\n",
       "    }\n",
       "\n",
       "    .dataframe thead th {\n",
       "        text-align: right;\n",
       "    }\n",
       "</style>\n",
       "<table border=\"1\" class=\"dataframe\">\n",
       "  <thead>\n",
       "    <tr style=\"text-align: right;\">\n",
       "      <th></th>\n",
       "      <th>age</th>\n",
       "      <th>job</th>\n",
       "      <th>marital</th>\n",
       "      <th>education</th>\n",
       "      <th>default</th>\n",
       "      <th>housing</th>\n",
       "      <th>loan</th>\n",
       "      <th>contact</th>\n",
       "      <th>month</th>\n",
       "      <th>day_of_week</th>\n",
       "      <th>...</th>\n",
       "      <th>campaign</th>\n",
       "      <th>pdays</th>\n",
       "      <th>previous</th>\n",
       "      <th>poutcome</th>\n",
       "      <th>emp.var.rate</th>\n",
       "      <th>cons.price.idx</th>\n",
       "      <th>cons.conf.idx</th>\n",
       "      <th>euribor3m</th>\n",
       "      <th>nr.employed</th>\n",
       "      <th>y</th>\n",
       "    </tr>\n",
       "  </thead>\n",
       "  <tbody>\n",
       "    <tr>\n",
       "      <th>0</th>\n",
       "      <td>56</td>\n",
       "      <td>housemaid</td>\n",
       "      <td>married</td>\n",
       "      <td>basic.4y</td>\n",
       "      <td>no</td>\n",
       "      <td>no</td>\n",
       "      <td>no</td>\n",
       "      <td>telephone</td>\n",
       "      <td>may</td>\n",
       "      <td>mon</td>\n",
       "      <td>...</td>\n",
       "      <td>1</td>\n",
       "      <td>999</td>\n",
       "      <td>0</td>\n",
       "      <td>nonexistent</td>\n",
       "      <td>1.1</td>\n",
       "      <td>93.994</td>\n",
       "      <td>-36.4</td>\n",
       "      <td>4.857</td>\n",
       "      <td>5191</td>\n",
       "      <td>no</td>\n",
       "    </tr>\n",
       "    <tr>\n",
       "      <th>1</th>\n",
       "      <td>57</td>\n",
       "      <td>services</td>\n",
       "      <td>married</td>\n",
       "      <td>high.school</td>\n",
       "      <td>unknown</td>\n",
       "      <td>no</td>\n",
       "      <td>no</td>\n",
       "      <td>telephone</td>\n",
       "      <td>may</td>\n",
       "      <td>mon</td>\n",
       "      <td>...</td>\n",
       "      <td>1</td>\n",
       "      <td>999</td>\n",
       "      <td>0</td>\n",
       "      <td>nonexistent</td>\n",
       "      <td>1.1</td>\n",
       "      <td>93.994</td>\n",
       "      <td>-36.4</td>\n",
       "      <td>4.857</td>\n",
       "      <td>5191</td>\n",
       "      <td>no</td>\n",
       "    </tr>\n",
       "    <tr>\n",
       "      <th>2</th>\n",
       "      <td>37</td>\n",
       "      <td>services</td>\n",
       "      <td>married</td>\n",
       "      <td>high.school</td>\n",
       "      <td>no</td>\n",
       "      <td>yes</td>\n",
       "      <td>no</td>\n",
       "      <td>telephone</td>\n",
       "      <td>may</td>\n",
       "      <td>mon</td>\n",
       "      <td>...</td>\n",
       "      <td>1</td>\n",
       "      <td>999</td>\n",
       "      <td>0</td>\n",
       "      <td>nonexistent</td>\n",
       "      <td>1.1</td>\n",
       "      <td>93.994</td>\n",
       "      <td>-36.4</td>\n",
       "      <td>4.857</td>\n",
       "      <td>5191</td>\n",
       "      <td>no</td>\n",
       "    </tr>\n",
       "    <tr>\n",
       "      <th>3</th>\n",
       "      <td>40</td>\n",
       "      <td>admin.</td>\n",
       "      <td>married</td>\n",
       "      <td>basic.6y</td>\n",
       "      <td>no</td>\n",
       "      <td>no</td>\n",
       "      <td>no</td>\n",
       "      <td>telephone</td>\n",
       "      <td>may</td>\n",
       "      <td>mon</td>\n",
       "      <td>...</td>\n",
       "      <td>1</td>\n",
       "      <td>999</td>\n",
       "      <td>0</td>\n",
       "      <td>nonexistent</td>\n",
       "      <td>1.1</td>\n",
       "      <td>93.994</td>\n",
       "      <td>-36.4</td>\n",
       "      <td>4.857</td>\n",
       "      <td>5191</td>\n",
       "      <td>no</td>\n",
       "    </tr>\n",
       "    <tr>\n",
       "      <th>4</th>\n",
       "      <td>56</td>\n",
       "      <td>services</td>\n",
       "      <td>married</td>\n",
       "      <td>high.school</td>\n",
       "      <td>no</td>\n",
       "      <td>no</td>\n",
       "      <td>yes</td>\n",
       "      <td>telephone</td>\n",
       "      <td>may</td>\n",
       "      <td>mon</td>\n",
       "      <td>...</td>\n",
       "      <td>1</td>\n",
       "      <td>999</td>\n",
       "      <td>0</td>\n",
       "      <td>nonexistent</td>\n",
       "      <td>1.1</td>\n",
       "      <td>93.994</td>\n",
       "      <td>-36.4</td>\n",
       "      <td>4.857</td>\n",
       "      <td>5191</td>\n",
       "      <td>no</td>\n",
       "    </tr>\n",
       "  </tbody>\n",
       "</table>\n",
       "<p>5 rows × 21 columns</p>\n",
       "</div>"
      ],
      "text/plain": [
       "   age        job  marital    education  default housing loan    contact  \\\n",
       "0   56  housemaid  married     basic.4y       no      no   no  telephone   \n",
       "1   57   services  married  high.school  unknown      no   no  telephone   \n",
       "2   37   services  married  high.school       no     yes   no  telephone   \n",
       "3   40     admin.  married     basic.6y       no      no   no  telephone   \n",
       "4   56   services  married  high.school       no      no  yes  telephone   \n",
       "\n",
       "  month day_of_week  ...  campaign  pdays  previous     poutcome emp.var.rate  \\\n",
       "0   may         mon  ...         1    999         0  nonexistent          1.1   \n",
       "1   may         mon  ...         1    999         0  nonexistent          1.1   \n",
       "2   may         mon  ...         1    999         0  nonexistent          1.1   \n",
       "3   may         mon  ...         1    999         0  nonexistent          1.1   \n",
       "4   may         mon  ...         1    999         0  nonexistent          1.1   \n",
       "\n",
       "   cons.price.idx  cons.conf.idx  euribor3m  nr.employed   y  \n",
       "0          93.994          -36.4      4.857         5191  no  \n",
       "1          93.994          -36.4      4.857         5191  no  \n",
       "2          93.994          -36.4      4.857         5191  no  \n",
       "3          93.994          -36.4      4.857         5191  no  \n",
       "4          93.994          -36.4      4.857         5191  no  \n",
       "\n",
       "[5 rows x 21 columns]"
      ]
     },
     "execution_count": 6,
     "metadata": {},
     "output_type": "execute_result"
    }
   ],
   "source": [
    "# Menampilkan 5 data teratas\n",
    "bank_df.head()"
   ]
  },
  {
   "cell_type": "markdown",
   "id": "f12a9c74",
   "metadata": {},
   "source": [
    "# Bank Additional Descriptions"
   ]
  },
  {
   "cell_type": "markdown",
   "id": "f7f97142",
   "metadata": {},
   "source": [
    "## Mengetahui dimensi dataset"
   ]
  },
  {
   "cell_type": "code",
   "execution_count": 7,
   "id": "665b24cd",
   "metadata": {},
   "outputs": [
    {
     "name": "stdout",
     "output_type": "stream",
     "text": [
      "Dimensi data =  (41188, 21)\n"
     ]
    }
   ],
   "source": [
    "print(\"Dimensi data = \", bank_df.shape)"
   ]
  },
  {
   "cell_type": "markdown",
   "id": "22af1012",
   "metadata": {},
   "source": [
    "## Mengetahui daftar atribut/fitur dari dataset"
   ]
  },
  {
   "cell_type": "code",
   "execution_count": 8,
   "id": "c594ec6a",
   "metadata": {},
   "outputs": [
    {
     "name": "stdout",
     "output_type": "stream",
     "text": [
      "<class 'pandas.core.frame.DataFrame'>\n",
      "RangeIndex: 41188 entries, 0 to 41187\n",
      "Data columns (total 21 columns):\n",
      " #   Column          Non-Null Count  Dtype  \n",
      "---  ------          --------------  -----  \n",
      " 0   age             41188 non-null  int64  \n",
      " 1   job             41188 non-null  object \n",
      " 2   marital         41188 non-null  object \n",
      " 3   education       41188 non-null  object \n",
      " 4   default         41188 non-null  object \n",
      " 5   housing         41188 non-null  object \n",
      " 6   loan            41188 non-null  object \n",
      " 7   contact         41188 non-null  object \n",
      " 8   month           41188 non-null  object \n",
      " 9   day_of_week     41188 non-null  object \n",
      " 10  duration        41188 non-null  int64  \n",
      " 11  campaign        41188 non-null  int64  \n",
      " 12  pdays           41188 non-null  int64  \n",
      " 13  previous        41188 non-null  int64  \n",
      " 14  poutcome        41188 non-null  object \n",
      " 15  emp.var.rate    41188 non-null  float64\n",
      " 16  cons.price.idx  41188 non-null  float64\n",
      " 17  cons.conf.idx   41188 non-null  float64\n",
      " 18  euribor3m       41188 non-null  float64\n",
      " 19  nr.employed     41188 non-null  int64  \n",
      " 20  y               41188 non-null  object \n",
      "dtypes: float64(4), int64(6), object(11)\n",
      "memory usage: 6.6+ MB\n"
     ]
    }
   ],
   "source": [
    "bank_df.info()"
   ]
  },
  {
   "cell_type": "markdown",
   "id": "24f3cd41",
   "metadata": {},
   "source": [
    "**ANALISIS** <br>\n",
    "Terlihat bahwa tidak ada missing values pada data. Hal ini cukup aneh. Missing values akan diperiksa lebih lanjut. <br>\n",
    "Daftar Atribut Kategorikal: <br>\n",
    "1. job\n",
    "2. marital\n",
    "3. education\n",
    "4. default\n",
    "5. housing\n",
    "6. loan\n",
    "7. contact\n",
    "9. month\n",
    "10. day_of_week\n",
    "11. poutcome\n",
    "12. y (target) <br>\n",
    "\n",
    "Daftar Atribut Numerikal: <br>\n",
    "1. Age\n",
    "2. duration (in seconds)\n",
    "3. campaign\n",
    "4. pdays\n",
    "5. previous\n",
    "6. emp.var.rate\n",
    "7. cons.price.idx\n",
    "8. cons.conf.idx\n",
    "9. euribor3m\n",
    "10. nr.eployed"
   ]
  },
  {
   "cell_type": "markdown",
   "id": "02e126e5",
   "metadata": {},
   "source": [
    "## Mengelompokkan atribut berdasarkan tipe datanya"
   ]
  },
  {
   "cell_type": "code",
   "execution_count": 9,
   "id": "fb66f94b",
   "metadata": {},
   "outputs": [],
   "source": [
    "numerical_columns = list(bank_df.select_dtypes(include=['int64']).columns.values) + list(bank_df.select_dtypes(include=['float64']).columns.values)\n",
    "categorical_columns = list(bank_df.select_dtypes(include=['object']))"
   ]
  },
  {
   "cell_type": "code",
   "execution_count": 10,
   "id": "c3687c93",
   "metadata": {},
   "outputs": [
    {
     "data": {
      "text/plain": [
       "['age',\n",
       " 'duration',\n",
       " 'campaign',\n",
       " 'pdays',\n",
       " 'previous',\n",
       " 'nr.employed',\n",
       " 'emp.var.rate',\n",
       " 'cons.price.idx',\n",
       " 'cons.conf.idx',\n",
       " 'euribor3m']"
      ]
     },
     "execution_count": 10,
     "metadata": {},
     "output_type": "execute_result"
    }
   ],
   "source": [
    "# cetak variabel yang numerik\n",
    "numerical_columns"
   ]
  },
  {
   "cell_type": "code",
   "execution_count": 11,
   "id": "405183ca",
   "metadata": {},
   "outputs": [
    {
     "data": {
      "text/plain": [
       "['job',\n",
       " 'marital',\n",
       " 'education',\n",
       " 'default',\n",
       " 'housing',\n",
       " 'loan',\n",
       " 'contact',\n",
       " 'month',\n",
       " 'day_of_week',\n",
       " 'poutcome',\n",
       " 'y']"
      ]
     },
     "execution_count": 11,
     "metadata": {},
     "output_type": "execute_result"
    }
   ],
   "source": [
    "# cetak variabel yang kategorikal\n",
    "categorical_columns"
   ]
  },
  {
   "cell_type": "markdown",
   "id": "39c2c68f",
   "metadata": {},
   "source": [
    "Terlihat bahwa tipe data pada dataset sudah sesuai dengan apa yang seharusnya"
   ]
  },
  {
   "cell_type": "markdown",
   "id": "40f9aa8c",
   "metadata": {},
   "source": [
    "## Deskriptif Statistik untuk atribut numerikal"
   ]
  },
  {
   "cell_type": "code",
   "execution_count": 12,
   "id": "be05c45d",
   "metadata": {},
   "outputs": [
    {
     "data": {
      "text/html": [
       "<div>\n",
       "<style scoped>\n",
       "    .dataframe tbody tr th:only-of-type {\n",
       "        vertical-align: middle;\n",
       "    }\n",
       "\n",
       "    .dataframe tbody tr th {\n",
       "        vertical-align: top;\n",
       "    }\n",
       "\n",
       "    .dataframe thead th {\n",
       "        text-align: right;\n",
       "    }\n",
       "</style>\n",
       "<table border=\"1\" class=\"dataframe\">\n",
       "  <thead>\n",
       "    <tr style=\"text-align: right;\">\n",
       "      <th></th>\n",
       "      <th>age</th>\n",
       "      <th>duration</th>\n",
       "      <th>campaign</th>\n",
       "      <th>pdays</th>\n",
       "      <th>previous</th>\n",
       "      <th>nr.employed</th>\n",
       "      <th>emp.var.rate</th>\n",
       "      <th>cons.price.idx</th>\n",
       "      <th>cons.conf.idx</th>\n",
       "      <th>euribor3m</th>\n",
       "    </tr>\n",
       "  </thead>\n",
       "  <tbody>\n",
       "    <tr>\n",
       "      <th>count</th>\n",
       "      <td>41188.00000</td>\n",
       "      <td>41188.000000</td>\n",
       "      <td>41188.000000</td>\n",
       "      <td>41188.000000</td>\n",
       "      <td>41188.000000</td>\n",
       "      <td>41188.000000</td>\n",
       "      <td>41188.000000</td>\n",
       "      <td>41188.000000</td>\n",
       "      <td>41188.000000</td>\n",
       "      <td>41188.000000</td>\n",
       "    </tr>\n",
       "    <tr>\n",
       "      <th>mean</th>\n",
       "      <td>40.02406</td>\n",
       "      <td>258.285010</td>\n",
       "      <td>2.567593</td>\n",
       "      <td>962.475454</td>\n",
       "      <td>0.172963</td>\n",
       "      <td>5167.019010</td>\n",
       "      <td>0.081886</td>\n",
       "      <td>93.575664</td>\n",
       "      <td>-40.502600</td>\n",
       "      <td>3.621291</td>\n",
       "    </tr>\n",
       "    <tr>\n",
       "      <th>std</th>\n",
       "      <td>10.42125</td>\n",
       "      <td>259.279249</td>\n",
       "      <td>2.770014</td>\n",
       "      <td>186.910907</td>\n",
       "      <td>0.494901</td>\n",
       "      <td>72.178074</td>\n",
       "      <td>1.570960</td>\n",
       "      <td>0.578840</td>\n",
       "      <td>4.628198</td>\n",
       "      <td>1.734447</td>\n",
       "    </tr>\n",
       "    <tr>\n",
       "      <th>min</th>\n",
       "      <td>17.00000</td>\n",
       "      <td>0.000000</td>\n",
       "      <td>1.000000</td>\n",
       "      <td>0.000000</td>\n",
       "      <td>0.000000</td>\n",
       "      <td>4964.000000</td>\n",
       "      <td>-3.400000</td>\n",
       "      <td>92.201000</td>\n",
       "      <td>-50.800000</td>\n",
       "      <td>0.634000</td>\n",
       "    </tr>\n",
       "    <tr>\n",
       "      <th>25%</th>\n",
       "      <td>32.00000</td>\n",
       "      <td>102.000000</td>\n",
       "      <td>1.000000</td>\n",
       "      <td>999.000000</td>\n",
       "      <td>0.000000</td>\n",
       "      <td>5099.000000</td>\n",
       "      <td>-1.800000</td>\n",
       "      <td>93.075000</td>\n",
       "      <td>-42.700000</td>\n",
       "      <td>1.344000</td>\n",
       "    </tr>\n",
       "    <tr>\n",
       "      <th>50%</th>\n",
       "      <td>38.00000</td>\n",
       "      <td>180.000000</td>\n",
       "      <td>2.000000</td>\n",
       "      <td>999.000000</td>\n",
       "      <td>0.000000</td>\n",
       "      <td>5191.000000</td>\n",
       "      <td>1.100000</td>\n",
       "      <td>93.749000</td>\n",
       "      <td>-41.800000</td>\n",
       "      <td>4.857000</td>\n",
       "    </tr>\n",
       "    <tr>\n",
       "      <th>75%</th>\n",
       "      <td>47.00000</td>\n",
       "      <td>319.000000</td>\n",
       "      <td>3.000000</td>\n",
       "      <td>999.000000</td>\n",
       "      <td>0.000000</td>\n",
       "      <td>5228.000000</td>\n",
       "      <td>1.400000</td>\n",
       "      <td>93.994000</td>\n",
       "      <td>-36.400000</td>\n",
       "      <td>4.961000</td>\n",
       "    </tr>\n",
       "    <tr>\n",
       "      <th>max</th>\n",
       "      <td>98.00000</td>\n",
       "      <td>4918.000000</td>\n",
       "      <td>56.000000</td>\n",
       "      <td>999.000000</td>\n",
       "      <td>7.000000</td>\n",
       "      <td>5228.000000</td>\n",
       "      <td>1.400000</td>\n",
       "      <td>94.767000</td>\n",
       "      <td>-26.900000</td>\n",
       "      <td>5.045000</td>\n",
       "    </tr>\n",
       "  </tbody>\n",
       "</table>\n",
       "</div>"
      ],
      "text/plain": [
       "               age      duration      campaign         pdays      previous  \\\n",
       "count  41188.00000  41188.000000  41188.000000  41188.000000  41188.000000   \n",
       "mean      40.02406    258.285010      2.567593    962.475454      0.172963   \n",
       "std       10.42125    259.279249      2.770014    186.910907      0.494901   \n",
       "min       17.00000      0.000000      1.000000      0.000000      0.000000   \n",
       "25%       32.00000    102.000000      1.000000    999.000000      0.000000   \n",
       "50%       38.00000    180.000000      2.000000    999.000000      0.000000   \n",
       "75%       47.00000    319.000000      3.000000    999.000000      0.000000   \n",
       "max       98.00000   4918.000000     56.000000    999.000000      7.000000   \n",
       "\n",
       "        nr.employed  emp.var.rate  cons.price.idx  cons.conf.idx     euribor3m  \n",
       "count  41188.000000  41188.000000    41188.000000   41188.000000  41188.000000  \n",
       "mean    5167.019010      0.081886       93.575664     -40.502600      3.621291  \n",
       "std       72.178074      1.570960        0.578840       4.628198      1.734447  \n",
       "min     4964.000000     -3.400000       92.201000     -50.800000      0.634000  \n",
       "25%     5099.000000     -1.800000       93.075000     -42.700000      1.344000  \n",
       "50%     5191.000000      1.100000       93.749000     -41.800000      4.857000  \n",
       "75%     5228.000000      1.400000       93.994000     -36.400000      4.961000  \n",
       "max     5228.000000      1.400000       94.767000     -26.900000      5.045000  "
      ]
     },
     "execution_count": 12,
     "metadata": {},
     "output_type": "execute_result"
    }
   ],
   "source": [
    "# deskriptif statistik untuk data latih\n",
    "bank_df[numerical_columns].describe()"
   ]
  },
  {
   "cell_type": "markdown",
   "id": "ad321f66",
   "metadata": {},
   "source": [
    "## Mengetahui jumlah data untuk masing-masing kelas"
   ]
  },
  {
   "cell_type": "code",
   "execution_count": 13,
   "id": "98b4f756",
   "metadata": {},
   "outputs": [
    {
     "data": {
      "text/html": [
       "<div>\n",
       "<style scoped>\n",
       "    .dataframe tbody tr th:only-of-type {\n",
       "        vertical-align: middle;\n",
       "    }\n",
       "\n",
       "    .dataframe tbody tr th {\n",
       "        vertical-align: top;\n",
       "    }\n",
       "\n",
       "    .dataframe thead th {\n",
       "        text-align: right;\n",
       "    }\n",
       "</style>\n",
       "<table border=\"1\" class=\"dataframe\">\n",
       "  <thead>\n",
       "    <tr style=\"text-align: right;\">\n",
       "      <th></th>\n",
       "      <th>age</th>\n",
       "      <th>job</th>\n",
       "      <th>marital</th>\n",
       "      <th>education</th>\n",
       "      <th>default</th>\n",
       "      <th>housing</th>\n",
       "      <th>loan</th>\n",
       "      <th>contact</th>\n",
       "      <th>month</th>\n",
       "      <th>day_of_week</th>\n",
       "      <th>duration</th>\n",
       "      <th>campaign</th>\n",
       "      <th>pdays</th>\n",
       "      <th>previous</th>\n",
       "      <th>poutcome</th>\n",
       "      <th>emp.var.rate</th>\n",
       "      <th>cons.price.idx</th>\n",
       "      <th>cons.conf.idx</th>\n",
       "      <th>euribor3m</th>\n",
       "      <th>nr.employed</th>\n",
       "    </tr>\n",
       "    <tr>\n",
       "      <th>y</th>\n",
       "      <th></th>\n",
       "      <th></th>\n",
       "      <th></th>\n",
       "      <th></th>\n",
       "      <th></th>\n",
       "      <th></th>\n",
       "      <th></th>\n",
       "      <th></th>\n",
       "      <th></th>\n",
       "      <th></th>\n",
       "      <th></th>\n",
       "      <th></th>\n",
       "      <th></th>\n",
       "      <th></th>\n",
       "      <th></th>\n",
       "      <th></th>\n",
       "      <th></th>\n",
       "      <th></th>\n",
       "      <th></th>\n",
       "      <th></th>\n",
       "    </tr>\n",
       "  </thead>\n",
       "  <tbody>\n",
       "    <tr>\n",
       "      <th>no</th>\n",
       "      <td>36548</td>\n",
       "      <td>36548</td>\n",
       "      <td>36548</td>\n",
       "      <td>36548</td>\n",
       "      <td>36548</td>\n",
       "      <td>36548</td>\n",
       "      <td>36548</td>\n",
       "      <td>36548</td>\n",
       "      <td>36548</td>\n",
       "      <td>36548</td>\n",
       "      <td>36548</td>\n",
       "      <td>36548</td>\n",
       "      <td>36548</td>\n",
       "      <td>36548</td>\n",
       "      <td>36548</td>\n",
       "      <td>36548</td>\n",
       "      <td>36548</td>\n",
       "      <td>36548</td>\n",
       "      <td>36548</td>\n",
       "      <td>36548</td>\n",
       "    </tr>\n",
       "    <tr>\n",
       "      <th>yes</th>\n",
       "      <td>4640</td>\n",
       "      <td>4640</td>\n",
       "      <td>4640</td>\n",
       "      <td>4640</td>\n",
       "      <td>4640</td>\n",
       "      <td>4640</td>\n",
       "      <td>4640</td>\n",
       "      <td>4640</td>\n",
       "      <td>4640</td>\n",
       "      <td>4640</td>\n",
       "      <td>4640</td>\n",
       "      <td>4640</td>\n",
       "      <td>4640</td>\n",
       "      <td>4640</td>\n",
       "      <td>4640</td>\n",
       "      <td>4640</td>\n",
       "      <td>4640</td>\n",
       "      <td>4640</td>\n",
       "      <td>4640</td>\n",
       "      <td>4640</td>\n",
       "    </tr>\n",
       "  </tbody>\n",
       "</table>\n",
       "</div>"
      ],
      "text/plain": [
       "       age    job  marital  education  default  housing   loan  contact  \\\n",
       "y                                                                         \n",
       "no   36548  36548    36548      36548    36548    36548  36548    36548   \n",
       "yes   4640   4640     4640       4640     4640     4640   4640     4640   \n",
       "\n",
       "     month  day_of_week  duration  campaign  pdays  previous  poutcome  \\\n",
       "y                                                                        \n",
       "no   36548        36548     36548     36548  36548     36548     36548   \n",
       "yes   4640         4640      4640      4640   4640      4640      4640   \n",
       "\n",
       "     emp.var.rate  cons.price.idx  cons.conf.idx  euribor3m  nr.employed  \n",
       "y                                                                         \n",
       "no          36548           36548          36548      36548        36548  \n",
       "yes          4640            4640           4640       4640         4640  "
      ]
     },
     "execution_count": 13,
     "metadata": {},
     "output_type": "execute_result"
    }
   ],
   "source": [
    "bank_df.groupby('y').count()"
   ]
  },
  {
   "cell_type": "markdown",
   "id": "67ba6482",
   "metadata": {},
   "source": [
    "Data latih memiliki: <br>\n",
    "1. 36548 label \"no\"\n",
    "2. 4640 label \"yes\" <br>"
   ]
  },
  {
   "cell_type": "markdown",
   "id": "eba42784",
   "metadata": {},
   "source": [
    "# Data Cleaning"
   ]
  },
  {
   "cell_type": "markdown",
   "id": "45a1c362",
   "metadata": {},
   "source": [
    "## Memastikan tidak ada *missing values* pada Kolom Kategorikal\n",
    "***\n",
    "Pada keterangan dataset yang dilampirkan, missing values pada data ditandai dengan label \"unknown\" pada beberapa kolom dengan tipe kategorikal. Oleh karena, kolom kategorikal yang memuat label \"unknown\" akan diganti menjadi **nan** untuk menandai adanya missing values (unstandard missing values)"
   ]
  },
  {
   "cell_type": "code",
   "execution_count": 14,
   "id": "407b15bb",
   "metadata": {},
   "outputs": [
    {
     "data": {
      "text/plain": [
       "default           8597\n",
       "education         1731\n",
       "housing            990\n",
       "loan               990\n",
       "job                330\n",
       "marital             80\n",
       "age                  0\n",
       "poutcome             0\n",
       "nr.employed          0\n",
       "euribor3m            0\n",
       "cons.conf.idx        0\n",
       "cons.price.idx       0\n",
       "emp.var.rate         0\n",
       "duration             0\n",
       "previous             0\n",
       "pdays                0\n",
       "campaign             0\n",
       "day_of_week          0\n",
       "month                0\n",
       "contact              0\n",
       "y                    0\n",
       "dtype: int64"
      ]
     },
     "execution_count": 14,
     "metadata": {},
     "output_type": "execute_result"
    }
   ],
   "source": [
    "# Mengetahui jumlah \"unknown\" di setiap atribut\n",
    "bank_df[\n",
    "    bank_df[categorical_columns]=='unknown'\n",
    "].count().sort_values(ascending=False)"
   ]
  },
  {
   "cell_type": "markdown",
   "id": "a40e513f",
   "metadata": {},
   "source": [
    "**default, education, housing, loan, job, marital** menjadi kolom kategorikal yang banyak mengandung missing values"
   ]
  },
  {
   "cell_type": "markdown",
   "id": "ccb8052d",
   "metadata": {},
   "source": [
    "## Mengganti \"unknown\" dengan Numpy nan"
   ]
  },
  {
   "cell_type": "code",
   "execution_count": 15,
   "id": "773694f5",
   "metadata": {},
   "outputs": [],
   "source": [
    "# Mengganti \"unknown\" pada data latih\n",
    "bank_df[\n",
    "    bank_df[categorical_columns]==\"unknown\"\n",
    "] = np.nan"
   ]
  },
  {
   "cell_type": "markdown",
   "id": "9a8327b8",
   "metadata": {},
   "source": [
    "### Cek apakah \"unknown\" sudah terganti dengan Numpy nan dengan benar"
   ]
  },
  {
   "cell_type": "code",
   "execution_count": 16,
   "id": "9a1f2225",
   "metadata": {},
   "outputs": [
    {
     "data": {
      "text/plain": [
       "age               0\n",
       "campaign          0\n",
       "nr.employed       0\n",
       "euribor3m         0\n",
       "cons.conf.idx     0\n",
       "cons.price.idx    0\n",
       "emp.var.rate      0\n",
       "poutcome          0\n",
       "previous          0\n",
       "pdays             0\n",
       "duration          0\n",
       "job               0\n",
       "day_of_week       0\n",
       "month             0\n",
       "contact           0\n",
       "loan              0\n",
       "housing           0\n",
       "default           0\n",
       "education         0\n",
       "marital           0\n",
       "y                 0\n",
       "dtype: int64"
      ]
     },
     "execution_count": 16,
     "metadata": {},
     "output_type": "execute_result"
    }
   ],
   "source": [
    "# Mengetahui jumlah \"unknown\" di setiap atribut\n",
    "bank_df[\n",
    "    bank_df[categorical_columns]=='unknown'\n",
    "].count().sort_values(ascending=False)"
   ]
  },
  {
   "cell_type": "markdown",
   "id": "e6c9cc34",
   "metadata": {},
   "source": [
    "Label \"unknown\" sudah tergantikan dengan Numpy nan semuanya"
   ]
  },
  {
   "cell_type": "markdown",
   "id": "d498e3fc",
   "metadata": {},
   "source": [
    "## Melihat *unstandard missing values* pada kolom kategorikal"
   ]
  },
  {
   "cell_type": "code",
   "execution_count": 17,
   "id": "6813f07c",
   "metadata": {},
   "outputs": [
    {
     "data": {
      "text/html": [
       "<div>\n",
       "<style scoped>\n",
       "    .dataframe tbody tr th:only-of-type {\n",
       "        vertical-align: middle;\n",
       "    }\n",
       "\n",
       "    .dataframe tbody tr th {\n",
       "        vertical-align: top;\n",
       "    }\n",
       "\n",
       "    .dataframe thead th {\n",
       "        text-align: right;\n",
       "    }\n",
       "</style>\n",
       "<table border=\"1\" class=\"dataframe\">\n",
       "  <thead>\n",
       "    <tr style=\"text-align: right;\">\n",
       "      <th></th>\n",
       "      <th>job</th>\n",
       "      <th>marital</th>\n",
       "      <th>education</th>\n",
       "      <th>default</th>\n",
       "      <th>housing</th>\n",
       "      <th>loan</th>\n",
       "      <th>contact</th>\n",
       "      <th>month</th>\n",
       "      <th>day_of_week</th>\n",
       "      <th>poutcome</th>\n",
       "      <th>y</th>\n",
       "    </tr>\n",
       "  </thead>\n",
       "  <tbody>\n",
       "    <tr>\n",
       "      <th>0</th>\n",
       "      <td>housemaid</td>\n",
       "      <td>married</td>\n",
       "      <td>basic.4y</td>\n",
       "      <td>no</td>\n",
       "      <td>no</td>\n",
       "      <td>no</td>\n",
       "      <td>telephone</td>\n",
       "      <td>may</td>\n",
       "      <td>mon</td>\n",
       "      <td>nonexistent</td>\n",
       "      <td>no</td>\n",
       "    </tr>\n",
       "    <tr>\n",
       "      <th>1</th>\n",
       "      <td>services</td>\n",
       "      <td>married</td>\n",
       "      <td>high.school</td>\n",
       "      <td>NaN</td>\n",
       "      <td>no</td>\n",
       "      <td>no</td>\n",
       "      <td>telephone</td>\n",
       "      <td>may</td>\n",
       "      <td>mon</td>\n",
       "      <td>nonexistent</td>\n",
       "      <td>no</td>\n",
       "    </tr>\n",
       "    <tr>\n",
       "      <th>2</th>\n",
       "      <td>services</td>\n",
       "      <td>married</td>\n",
       "      <td>high.school</td>\n",
       "      <td>no</td>\n",
       "      <td>yes</td>\n",
       "      <td>no</td>\n",
       "      <td>telephone</td>\n",
       "      <td>may</td>\n",
       "      <td>mon</td>\n",
       "      <td>nonexistent</td>\n",
       "      <td>no</td>\n",
       "    </tr>\n",
       "    <tr>\n",
       "      <th>3</th>\n",
       "      <td>admin.</td>\n",
       "      <td>married</td>\n",
       "      <td>basic.6y</td>\n",
       "      <td>no</td>\n",
       "      <td>no</td>\n",
       "      <td>no</td>\n",
       "      <td>telephone</td>\n",
       "      <td>may</td>\n",
       "      <td>mon</td>\n",
       "      <td>nonexistent</td>\n",
       "      <td>no</td>\n",
       "    </tr>\n",
       "    <tr>\n",
       "      <th>4</th>\n",
       "      <td>services</td>\n",
       "      <td>married</td>\n",
       "      <td>high.school</td>\n",
       "      <td>no</td>\n",
       "      <td>no</td>\n",
       "      <td>yes</td>\n",
       "      <td>telephone</td>\n",
       "      <td>may</td>\n",
       "      <td>mon</td>\n",
       "      <td>nonexistent</td>\n",
       "      <td>no</td>\n",
       "    </tr>\n",
       "  </tbody>\n",
       "</table>\n",
       "</div>"
      ],
      "text/plain": [
       "         job  marital    education default housing loan    contact month  \\\n",
       "0  housemaid  married     basic.4y      no      no   no  telephone   may   \n",
       "1   services  married  high.school     NaN      no   no  telephone   may   \n",
       "2   services  married  high.school      no     yes   no  telephone   may   \n",
       "3     admin.  married     basic.6y      no      no   no  telephone   may   \n",
       "4   services  married  high.school      no      no  yes  telephone   may   \n",
       "\n",
       "  day_of_week     poutcome   y  \n",
       "0         mon  nonexistent  no  \n",
       "1         mon  nonexistent  no  \n",
       "2         mon  nonexistent  no  \n",
       "3         mon  nonexistent  no  \n",
       "4         mon  nonexistent  no  "
      ]
     },
     "execution_count": 17,
     "metadata": {},
     "output_type": "execute_result"
    }
   ],
   "source": [
    "bank_df[\n",
    "    categorical_columns\n",
    "].head()"
   ]
  },
  {
   "cell_type": "code",
   "execution_count": 18,
   "id": "dea9297c",
   "metadata": {},
   "outputs": [
    {
     "name": "stdout",
     "output_type": "stream",
     "text": [
      "Nilai unik untuk kolom  JOB\n",
      "['housemaid' 'services' 'admin.' 'blue-collar' 'technician' 'retired'\n",
      " 'management' 'unemployed' 'self-employed' nan 'entrepreneur' 'student']\n",
      "==============================\n",
      "Nilai unik untuk kolom  MARITAL\n",
      "['married' 'single' 'divorced' nan]\n",
      "==============================\n",
      "Nilai unik untuk kolom  EDUCATION\n",
      "['basic.4y' 'high.school' 'basic.6y' 'basic.9y' 'professional.course' nan\n",
      " 'university.degree' 'illiterate']\n",
      "==============================\n",
      "Nilai unik untuk kolom  DEFAULT\n",
      "['no' nan 'yes']\n",
      "==============================\n",
      "Nilai unik untuk kolom  HOUSING\n",
      "['no' 'yes' nan]\n",
      "==============================\n",
      "Nilai unik untuk kolom  LOAN\n",
      "['no' 'yes' nan]\n",
      "==============================\n",
      "Nilai unik untuk kolom  CONTACT\n",
      "['telephone' 'cellular']\n",
      "==============================\n",
      "Nilai unik untuk kolom  MONTH\n",
      "['may' 'jun' 'jul' 'aug' 'oct' 'nov' 'dec' 'mar' 'apr' 'sep']\n",
      "==============================\n",
      "Nilai unik untuk kolom  DAY_OF_WEEK\n",
      "['mon' 'tue' 'wed' 'thu' 'fri']\n",
      "==============================\n",
      "Nilai unik untuk kolom  POUTCOME\n",
      "['nonexistent' 'failure' 'success']\n",
      "==============================\n",
      "Nilai unik untuk kolom  Y\n",
      "['no' 'yes']\n",
      "==============================\n"
     ]
    }
   ],
   "source": [
    "# Mencetak semua nilai unik pada masing-masing kolom kategori\n",
    "for cat_col in categorical_columns:\n",
    "    print(\"Nilai unik untuk kolom \", cat_col.upper())\n",
    "    print(bank_df[cat_col].unique())\n",
    "    print('='*30)"
   ]
  },
  {
   "cell_type": "markdown",
   "id": "ddf49be5",
   "metadata": {},
   "source": [
    "Semua nilai di masing-masing atribut sudah sesuai dengan apa yang tertera dari deskripsi dataset yang diterima. Sehingga tidak ada **invalid values** pada kolom kategorikal. <br>\n",
    "Pada kelas target **y** juga hanya terdapat dua nilai unik yaitu **no** dan **yes** dan tidak terdapat **missing values**, sehingga **tidak diperlukan *dropping data*** karena ada kelas target yang missing values"
   ]
  },
  {
   "cell_type": "markdown",
   "id": "97e7a36c",
   "metadata": {},
   "source": [
    "## Melihat *unstandard missing values* pada kolom numerikal"
   ]
  },
  {
   "cell_type": "code",
   "execution_count": 19,
   "id": "c5dac998",
   "metadata": {},
   "outputs": [
    {
     "data": {
      "text/html": [
       "<div>\n",
       "<style scoped>\n",
       "    .dataframe tbody tr th:only-of-type {\n",
       "        vertical-align: middle;\n",
       "    }\n",
       "\n",
       "    .dataframe tbody tr th {\n",
       "        vertical-align: top;\n",
       "    }\n",
       "\n",
       "    .dataframe thead th {\n",
       "        text-align: right;\n",
       "    }\n",
       "</style>\n",
       "<table border=\"1\" class=\"dataframe\">\n",
       "  <thead>\n",
       "    <tr style=\"text-align: right;\">\n",
       "      <th></th>\n",
       "      <th>age</th>\n",
       "      <th>duration</th>\n",
       "      <th>campaign</th>\n",
       "      <th>pdays</th>\n",
       "      <th>previous</th>\n",
       "      <th>nr.employed</th>\n",
       "      <th>emp.var.rate</th>\n",
       "      <th>cons.price.idx</th>\n",
       "      <th>cons.conf.idx</th>\n",
       "      <th>euribor3m</th>\n",
       "    </tr>\n",
       "  </thead>\n",
       "  <tbody>\n",
       "    <tr>\n",
       "      <th>0</th>\n",
       "      <td>56</td>\n",
       "      <td>261</td>\n",
       "      <td>1</td>\n",
       "      <td>999</td>\n",
       "      <td>0</td>\n",
       "      <td>5191</td>\n",
       "      <td>1.1</td>\n",
       "      <td>93.994</td>\n",
       "      <td>-36.4</td>\n",
       "      <td>4.857</td>\n",
       "    </tr>\n",
       "    <tr>\n",
       "      <th>1</th>\n",
       "      <td>57</td>\n",
       "      <td>149</td>\n",
       "      <td>1</td>\n",
       "      <td>999</td>\n",
       "      <td>0</td>\n",
       "      <td>5191</td>\n",
       "      <td>1.1</td>\n",
       "      <td>93.994</td>\n",
       "      <td>-36.4</td>\n",
       "      <td>4.857</td>\n",
       "    </tr>\n",
       "    <tr>\n",
       "      <th>2</th>\n",
       "      <td>37</td>\n",
       "      <td>226</td>\n",
       "      <td>1</td>\n",
       "      <td>999</td>\n",
       "      <td>0</td>\n",
       "      <td>5191</td>\n",
       "      <td>1.1</td>\n",
       "      <td>93.994</td>\n",
       "      <td>-36.4</td>\n",
       "      <td>4.857</td>\n",
       "    </tr>\n",
       "    <tr>\n",
       "      <th>3</th>\n",
       "      <td>40</td>\n",
       "      <td>151</td>\n",
       "      <td>1</td>\n",
       "      <td>999</td>\n",
       "      <td>0</td>\n",
       "      <td>5191</td>\n",
       "      <td>1.1</td>\n",
       "      <td>93.994</td>\n",
       "      <td>-36.4</td>\n",
       "      <td>4.857</td>\n",
       "    </tr>\n",
       "    <tr>\n",
       "      <th>4</th>\n",
       "      <td>56</td>\n",
       "      <td>307</td>\n",
       "      <td>1</td>\n",
       "      <td>999</td>\n",
       "      <td>0</td>\n",
       "      <td>5191</td>\n",
       "      <td>1.1</td>\n",
       "      <td>93.994</td>\n",
       "      <td>-36.4</td>\n",
       "      <td>4.857</td>\n",
       "    </tr>\n",
       "  </tbody>\n",
       "</table>\n",
       "</div>"
      ],
      "text/plain": [
       "   age  duration  campaign  pdays  previous  nr.employed  emp.var.rate  \\\n",
       "0   56       261         1    999         0         5191           1.1   \n",
       "1   57       149         1    999         0         5191           1.1   \n",
       "2   37       226         1    999         0         5191           1.1   \n",
       "3   40       151         1    999         0         5191           1.1   \n",
       "4   56       307         1    999         0         5191           1.1   \n",
       "\n",
       "   cons.price.idx  cons.conf.idx  euribor3m  \n",
       "0          93.994          -36.4      4.857  \n",
       "1          93.994          -36.4      4.857  \n",
       "2          93.994          -36.4      4.857  \n",
       "3          93.994          -36.4      4.857  \n",
       "4          93.994          -36.4      4.857  "
      ]
     },
     "execution_count": 19,
     "metadata": {},
     "output_type": "execute_result"
    }
   ],
   "source": [
    "bank_df[\n",
    "    numerical_columns\n",
    "].head()"
   ]
  },
  {
   "cell_type": "markdown",
   "id": "254805aa",
   "metadata": {},
   "source": [
    "Terlihat bahwa atribut **pdays** ada nilai **999** yang menandakan klien sebelumnya tidak dihubungi. Ini bisa diganti dengan nilai **0**. Akan diperiksa juga nilai-nilai yang \"aneh\" untuk atribut numerikal lainnya"
   ]
  },
  {
   "cell_type": "code",
   "execution_count": 20,
   "id": "68ac0331",
   "metadata": {},
   "outputs": [
    {
     "name": "stdout",
     "output_type": "stream",
     "text": [
      "Nilai unik untuk kolom  AGE\n",
      "[56 57 37 40 45 59 41 24 25 29 35 54 46 50 39 30 55 49 34 52 58 32 38 44\n",
      " 42 60 53 47 51 48 33 31 43 36 28 27 26 22 23 20 21 61 19 18 70 66 76 67\n",
      " 73 88 95 77 68 75 63 80 62 65 72 82 64 71 69 78 85 79 83 81 74 17 87 91\n",
      " 86 98 94 84 92 89]\n",
      "==============================\n",
      "Nilai unik untuk kolom  DURATION\n",
      "[ 261  149  226 ... 1246 1556 1868]\n",
      "==============================\n",
      "Nilai unik untuk kolom  CAMPAIGN\n",
      "[ 1  2  3  4  5  6  7  8  9 10 11 12 13 19 18 23 14 22 25 16 17 15 20 56\n",
      " 39 35 42 28 26 27 32 21 24 29 31 30 41 37 40 33 34 43]\n",
      "==============================\n",
      "Nilai unik untuk kolom  PDAYS\n",
      "[999   6   4   3   5   1   0  10   7   8   9  11   2  12  13  14  15  16\n",
      "  21  17  18  22  25  26  19  27  20]\n",
      "==============================\n",
      "Nilai unik untuk kolom  PREVIOUS\n",
      "[0 1 2 3 4 5 6 7]\n",
      "==============================\n",
      "Nilai unik untuk kolom  NR.EMPLOYED\n",
      "[5191 5228 5196 5176 5099 5076 5018 5024 5009 4992 4964]\n",
      "==============================\n",
      "Nilai unik untuk kolom  EMP.VAR.RATE\n",
      "[ 1.1  1.4 -0.1 -0.2 -1.8 -2.9 -3.4 -3.  -1.7 -1.1]\n",
      "==============================\n",
      "Nilai unik untuk kolom  CONS.PRICE.IDX\n",
      "[93.994 94.465 93.918 93.444 93.798 93.2   92.756 92.843 93.075 92.893\n",
      " 92.963 92.469 92.201 92.379 92.431 92.649 92.713 93.369 93.749 93.876\n",
      " 94.055 94.215 94.027 94.199 94.601 94.767]\n",
      "==============================\n",
      "Nilai unik untuk kolom  CONS.CONF.IDX\n",
      "[-36.4 -41.8 -42.7 -36.1 -40.4 -42.  -45.9 -50.  -47.1 -46.2 -40.8 -33.6\n",
      " -31.4 -29.8 -26.9 -30.1 -33.  -34.8 -34.6 -40.  -39.8 -40.3 -38.3 -37.5\n",
      " -49.5 -50.8]\n",
      "==============================\n",
      "Nilai unik untuk kolom  EURIBOR3M\n",
      "[4.857 4.856 4.855 4.859 4.86  4.858 4.864 4.865 4.866 4.967 4.961 4.959\n",
      " 4.958 4.96  4.962 4.955 4.947 4.956 4.966 4.963 4.957 4.968 4.97  4.965\n",
      " 4.964 5.045 5.    4.936 4.921 4.918 4.912 4.827 4.794 4.76  4.733 4.7\n",
      " 4.663 4.592 4.474 4.406 4.343 4.286 4.245 4.223 4.191 4.153 4.12  4.076\n",
      " 4.021 3.901 3.879 3.853 3.816 3.743 3.669 3.563 3.488 3.428 3.329 3.282\n",
      " 3.053 1.811 1.799 1.778 1.757 1.726 1.703 1.687 1.663 1.65  1.64  1.629\n",
      " 1.614 1.602 1.584 1.574 1.56  1.556 1.548 1.538 1.531 1.52  1.51  1.498\n",
      " 1.483 1.479 1.466 1.453 1.445 1.435 1.423 1.415 1.41  1.405 1.406 1.4\n",
      " 1.392 1.384 1.372 1.365 1.354 1.344 1.334 1.327 1.313 1.299 1.291 1.281\n",
      " 1.266 1.25  1.244 1.259 1.264 1.27  1.262 1.26  1.268 1.286 1.252 1.235\n",
      " 1.224 1.215 1.206 1.099 1.085 1.072 1.059 1.048 1.044 1.029 1.018 1.007\n",
      " 0.996 0.979 0.969 0.944 0.937 0.933 0.927 0.921 0.914 0.908 0.903 0.899\n",
      " 0.884 0.883 0.881 0.879 0.873 0.869 0.861 0.859 0.854 0.851 0.849 0.843\n",
      " 0.838 0.834 0.829 0.825 0.821 0.819 0.813 0.809 0.803 0.797 0.788 0.781\n",
      " 0.778 0.773 0.771 0.77  0.768 0.766 0.762 0.755 0.749 0.743 0.741 0.739\n",
      " 0.75  0.753 0.754 0.752 0.744 0.74  0.742 0.737 0.735 0.733 0.73  0.731\n",
      " 0.728 0.724 0.722 0.72  0.719 0.716 0.715 0.714 0.718 0.721 0.717 0.712\n",
      " 0.71  0.709 0.708 0.706 0.707 0.7   0.655 0.654 0.653 0.652 0.651 0.65\n",
      " 0.649 0.646 0.644 0.643 0.639 0.637 0.635 0.636 0.634 0.638 0.64  0.642\n",
      " 0.645 0.659 0.663 0.668 0.672 0.677 0.682 0.683 0.684 0.685 0.688 0.69\n",
      " 0.692 0.695 0.697 0.699 0.701 0.702 0.704 0.711 0.713 0.723 0.727 0.729\n",
      " 0.732 0.748 0.761 0.767 0.782 0.79  0.793 0.802 0.81  0.822 0.827 0.835\n",
      " 0.84  0.846 0.87  0.876 0.885 0.889 0.893 0.896 0.898 0.9   0.904 0.905\n",
      " 0.895 0.894 0.891 0.89  0.888 0.886 0.882 0.88  0.878 0.877 0.942 0.953\n",
      " 0.956 0.959 0.965 0.972 0.977 0.982 0.985 0.987 0.993 1.    1.008 1.016\n",
      " 1.025 1.032 1.037 1.043 1.045 1.047 1.05  1.049 1.046 1.041 1.04  1.039\n",
      " 1.035 1.03  1.031 1.028]\n",
      "==============================\n"
     ]
    }
   ],
   "source": [
    "# Mencetak semua nilai unik pada setiap atribut numerikal\n",
    "for num_col in numerical_columns:\n",
    "    print(\"Nilai unik untuk kolom \", num_col.upper())\n",
    "    print(bank_df[num_col].unique())\n",
    "    print('='*30)"
   ]
  },
  {
   "cell_type": "markdown",
   "id": "ef5ae7c1",
   "metadata": {},
   "source": [
    "Semua nilai yang ada untuk setiap kolom numerik tidak ada keanehan dengan nilai-nilai yang lainnya. Hanya **pdays** yang memiliki nilai yang aneh yaitu **999**, sehingga nilai ini akan diganti menjadi **0** (sesuai deskripsi dataset yang diterima)"
   ]
  },
  {
   "cell_type": "code",
   "execution_count": 21,
   "id": "5f09f19a",
   "metadata": {},
   "outputs": [],
   "source": [
    "# mengganti nilai 999 pada pdays \n",
    "bank_df['pdays'].replace(999,0,inplace=True)"
   ]
  },
  {
   "cell_type": "markdown",
   "id": "c2569502",
   "metadata": {},
   "source": [
    "## Merangkum total missing values (nan) values"
   ]
  },
  {
   "cell_type": "code",
   "execution_count": 22,
   "id": "4266bac6",
   "metadata": {},
   "outputs": [
    {
     "name": "stdout",
     "output_type": "stream",
     "text": [
      "Jumlah nan missing values atribut kategori =  12718\n",
      "Jumlah nan missing values atribut numerikal =  0\n"
     ]
    }
   ],
   "source": [
    "# missing values pada data train\n",
    "print(\"Jumlah nan missing values atribut kategori = \",bank_df[categorical_columns].isnull().sum().sum())\n",
    "print(\"Jumlah nan missing values atribut numerikal = \",bank_df[numerical_columns].isnull().sum().sum())"
   ]
  },
  {
   "cell_type": "markdown",
   "id": "d9a7412c",
   "metadata": {},
   "source": [
    "Hanya data kategorikal yang mengandung missing values dan data numerikal tidak mengandung missing values. Akan dilakukan strageti penanganan missing values untuk data kategorikal"
   ]
  },
  {
   "cell_type": "markdown",
   "id": "afcbb080",
   "metadata": {},
   "source": [
    "## Penanganan Missing Values\n",
    "***\n",
    "Untuk data kategorikal, *missing values* akan diisi dengan modus dari atribut X, sedangkan untuk data numerikal *missing values* akan diisi dengan median dari atribut Z."
   ]
  },
  {
   "cell_type": "markdown",
   "id": "8f606e24",
   "metadata": {},
   "source": [
    "### Pisahkan data yang bertipe kategorik dan numerik"
   ]
  },
  {
   "cell_type": "code",
   "execution_count": 23,
   "id": "4d095c7f",
   "metadata": {},
   "outputs": [],
   "source": [
    "# categorical data\n",
    "bank_df_categorical = bank_df[categorical_columns]\n",
    "\n",
    "# numerical data\n",
    "bank_df_numerical = bank_df[numerical_columns]"
   ]
  },
  {
   "cell_type": "markdown",
   "id": "d04ad977",
   "metadata": {},
   "source": [
    "### Instansiasi kelas Imputer untuk filling nan pada atribut kategorikal"
   ]
  },
  {
   "cell_type": "code",
   "execution_count": 24,
   "id": "6555890c",
   "metadata": {},
   "outputs": [],
   "source": [
    "# instansiasi kelas SimpleImputer untuk imputer atribut kategorikal\n",
    "imputer_categorical = SimpleImputer(missing_values=np.nan, strategy='most_frequent')"
   ]
  },
  {
   "cell_type": "markdown",
   "id": "11da1f6b",
   "metadata": {},
   "source": [
    "### Fit data training categorical into imputer, transform into training and testing categorical"
   ]
  },
  {
   "cell_type": "code",
   "execution_count": 25,
   "id": "74c0d639",
   "metadata": {},
   "outputs": [
    {
     "data": {
      "text/plain": [
       "SimpleImputer(strategy='most_frequent')"
      ]
     },
     "execution_count": 25,
     "metadata": {},
     "output_type": "execute_result"
    }
   ],
   "source": [
    "# fit dengan data training\n",
    "imputer_categorical.fit(bank_df_categorical)"
   ]
  },
  {
   "cell_type": "code",
   "execution_count": 26,
   "id": "6095f148",
   "metadata": {},
   "outputs": [],
   "source": [
    "# transform ke data latih\n",
    "bank_df_categorical = imputer_categorical.transform(bank_df_categorical)"
   ]
  },
  {
   "cell_type": "markdown",
   "id": "2d5c999b",
   "metadata": {},
   "source": [
    "### Buat numpy array hasil imputer transform ke dalam dataframe"
   ]
  },
  {
   "cell_type": "code",
   "execution_count": 27,
   "id": "cd5cc13a",
   "metadata": {},
   "outputs": [],
   "source": [
    "# buat hasil array ke dalam dataframe\n",
    "bank_df_categorical = pd.DataFrame(bank_df_categorical,columns=categorical_columns)"
   ]
  },
  {
   "cell_type": "markdown",
   "id": "8fc12c5a",
   "metadata": {},
   "source": [
    "### Concate categorical columns dengan numerical columns"
   ]
  },
  {
   "cell_type": "code",
   "execution_count": 28,
   "id": "b39f603e",
   "metadata": {},
   "outputs": [],
   "source": [
    "bank_df = pd.concat([bank_df_numerical,bank_df_categorical],axis=1)"
   ]
  },
  {
   "cell_type": "markdown",
   "id": "bd3980ec",
   "metadata": {},
   "source": [
    "### Check kalau masih ada missing values terlewat"
   ]
  },
  {
   "cell_type": "code",
   "execution_count": 29,
   "id": "07e3dd94",
   "metadata": {},
   "outputs": [
    {
     "name": "stdout",
     "output_type": "stream",
     "text": [
      "Jumlah nan missing values atribut kategori =  0\n",
      "Jumlah nan missing values atribut numerikal =  0\n"
     ]
    }
   ],
   "source": [
    "# missing values pada data train\n",
    "print(\"Jumlah nan missing values atribut kategori = \",bank_df[categorical_columns].isnull().sum().sum())\n",
    "print(\"Jumlah nan missing values atribut numerikal = \",bank_df[numerical_columns].isnull().sum().sum())"
   ]
  },
  {
   "cell_type": "markdown",
   "id": "1dcec603",
   "metadata": {},
   "source": [
    "Setelah dilakukan imputasi, **tidak ada missing values** yang tersisa"
   ]
  },
  {
   "cell_type": "markdown",
   "id": "bdc03c41",
   "metadata": {},
   "source": [
    "### Rename nama atribut pada data"
   ]
  },
  {
   "cell_type": "code",
   "execution_count": 30,
   "id": "2e565955",
   "metadata": {},
   "outputs": [],
   "source": [
    "bank_df.rename(columns={\n",
    "    'job':'pekerjaan',\n",
    "    'marital':'pernikahan',\n",
    "    'education':'pendidikan',\n",
    "    'default':'kredit_default',\n",
    "    'housing':'pinjaman_rumah',\n",
    "    'loan':'pinjaman_pribadi',\n",
    "    'contact':'alat_komunikasi',\n",
    "    'month':'kontak_terakhir_bulan',\n",
    "    'day_of_week':'kontak_terakhir_hari',\n",
    "    'poutcome':'luaran_marketing_sebelumnya',\n",
    "    'y':'berlangganan_deposito',\n",
    "    'age':'umur',\n",
    "    'duration':'kontak_terakhir_berdurasi',\n",
    "    'campaign':'jumlah_kontak_selama_pemasaran',\n",
    "    'pdays':'jumlah_hari_berlalu',\n",
    "    'previous':'jumlah_kontak_sebelum_pemasaran',\n",
    "    'emp.var.rate':'tingkat_variasi_pekerjaan',\n",
    "    'cons.price.idx':'indeks_harga_konsumen',\n",
    "    'cons.conf.idx':'indeks_kepercayaan_konsumen',\n",
    "    'euribor3m':'tarif_euribor_3bulan',\n",
    "    'nr.employed':'jumlah_karyawan',\n",
    "},inplace=True)"
   ]
  },
  {
   "cell_type": "markdown",
   "id": "93b10623",
   "metadata": {},
   "source": [
    "### Menampilkan 5 data teratas setelah imputasi missing values pada categorical columns"
   ]
  },
  {
   "cell_type": "code",
   "execution_count": 31,
   "id": "17b715f8",
   "metadata": {},
   "outputs": [
    {
     "data": {
      "text/html": [
       "<div>\n",
       "<style scoped>\n",
       "    .dataframe tbody tr th:only-of-type {\n",
       "        vertical-align: middle;\n",
       "    }\n",
       "\n",
       "    .dataframe tbody tr th {\n",
       "        vertical-align: top;\n",
       "    }\n",
       "\n",
       "    .dataframe thead th {\n",
       "        text-align: right;\n",
       "    }\n",
       "</style>\n",
       "<table border=\"1\" class=\"dataframe\">\n",
       "  <thead>\n",
       "    <tr style=\"text-align: right;\">\n",
       "      <th></th>\n",
       "      <th>umur</th>\n",
       "      <th>kontak_terakhir_berdurasi</th>\n",
       "      <th>jumlah_kontak_selama_pemasaran</th>\n",
       "      <th>jumlah_hari_berlalu</th>\n",
       "      <th>jumlah_kontak_sebelum_pemasaran</th>\n",
       "      <th>jumlah_karyawan</th>\n",
       "      <th>tingkat_variasi_pekerjaan</th>\n",
       "      <th>indeks_harga_konsumen</th>\n",
       "      <th>indeks_kepercayaan_konsumen</th>\n",
       "      <th>tarif_euribor_3bulan</th>\n",
       "      <th>...</th>\n",
       "      <th>pernikahan</th>\n",
       "      <th>pendidikan</th>\n",
       "      <th>kredit_default</th>\n",
       "      <th>pinjaman_rumah</th>\n",
       "      <th>pinjaman_pribadi</th>\n",
       "      <th>alat_komunikasi</th>\n",
       "      <th>kontak_terakhir_bulan</th>\n",
       "      <th>kontak_terakhir_hari</th>\n",
       "      <th>luaran_marketing_sebelumnya</th>\n",
       "      <th>berlangganan_deposito</th>\n",
       "    </tr>\n",
       "  </thead>\n",
       "  <tbody>\n",
       "    <tr>\n",
       "      <th>0</th>\n",
       "      <td>56</td>\n",
       "      <td>261</td>\n",
       "      <td>1</td>\n",
       "      <td>0</td>\n",
       "      <td>0</td>\n",
       "      <td>5191</td>\n",
       "      <td>1.1</td>\n",
       "      <td>93.994</td>\n",
       "      <td>-36.4</td>\n",
       "      <td>4.857</td>\n",
       "      <td>...</td>\n",
       "      <td>married</td>\n",
       "      <td>basic.4y</td>\n",
       "      <td>no</td>\n",
       "      <td>no</td>\n",
       "      <td>no</td>\n",
       "      <td>telephone</td>\n",
       "      <td>may</td>\n",
       "      <td>mon</td>\n",
       "      <td>nonexistent</td>\n",
       "      <td>no</td>\n",
       "    </tr>\n",
       "    <tr>\n",
       "      <th>1</th>\n",
       "      <td>57</td>\n",
       "      <td>149</td>\n",
       "      <td>1</td>\n",
       "      <td>0</td>\n",
       "      <td>0</td>\n",
       "      <td>5191</td>\n",
       "      <td>1.1</td>\n",
       "      <td>93.994</td>\n",
       "      <td>-36.4</td>\n",
       "      <td>4.857</td>\n",
       "      <td>...</td>\n",
       "      <td>married</td>\n",
       "      <td>high.school</td>\n",
       "      <td>no</td>\n",
       "      <td>no</td>\n",
       "      <td>no</td>\n",
       "      <td>telephone</td>\n",
       "      <td>may</td>\n",
       "      <td>mon</td>\n",
       "      <td>nonexistent</td>\n",
       "      <td>no</td>\n",
       "    </tr>\n",
       "    <tr>\n",
       "      <th>2</th>\n",
       "      <td>37</td>\n",
       "      <td>226</td>\n",
       "      <td>1</td>\n",
       "      <td>0</td>\n",
       "      <td>0</td>\n",
       "      <td>5191</td>\n",
       "      <td>1.1</td>\n",
       "      <td>93.994</td>\n",
       "      <td>-36.4</td>\n",
       "      <td>4.857</td>\n",
       "      <td>...</td>\n",
       "      <td>married</td>\n",
       "      <td>high.school</td>\n",
       "      <td>no</td>\n",
       "      <td>yes</td>\n",
       "      <td>no</td>\n",
       "      <td>telephone</td>\n",
       "      <td>may</td>\n",
       "      <td>mon</td>\n",
       "      <td>nonexistent</td>\n",
       "      <td>no</td>\n",
       "    </tr>\n",
       "    <tr>\n",
       "      <th>3</th>\n",
       "      <td>40</td>\n",
       "      <td>151</td>\n",
       "      <td>1</td>\n",
       "      <td>0</td>\n",
       "      <td>0</td>\n",
       "      <td>5191</td>\n",
       "      <td>1.1</td>\n",
       "      <td>93.994</td>\n",
       "      <td>-36.4</td>\n",
       "      <td>4.857</td>\n",
       "      <td>...</td>\n",
       "      <td>married</td>\n",
       "      <td>basic.6y</td>\n",
       "      <td>no</td>\n",
       "      <td>no</td>\n",
       "      <td>no</td>\n",
       "      <td>telephone</td>\n",
       "      <td>may</td>\n",
       "      <td>mon</td>\n",
       "      <td>nonexistent</td>\n",
       "      <td>no</td>\n",
       "    </tr>\n",
       "    <tr>\n",
       "      <th>4</th>\n",
       "      <td>56</td>\n",
       "      <td>307</td>\n",
       "      <td>1</td>\n",
       "      <td>0</td>\n",
       "      <td>0</td>\n",
       "      <td>5191</td>\n",
       "      <td>1.1</td>\n",
       "      <td>93.994</td>\n",
       "      <td>-36.4</td>\n",
       "      <td>4.857</td>\n",
       "      <td>...</td>\n",
       "      <td>married</td>\n",
       "      <td>high.school</td>\n",
       "      <td>no</td>\n",
       "      <td>no</td>\n",
       "      <td>yes</td>\n",
       "      <td>telephone</td>\n",
       "      <td>may</td>\n",
       "      <td>mon</td>\n",
       "      <td>nonexistent</td>\n",
       "      <td>no</td>\n",
       "    </tr>\n",
       "  </tbody>\n",
       "</table>\n",
       "<p>5 rows × 21 columns</p>\n",
       "</div>"
      ],
      "text/plain": [
       "   umur  kontak_terakhir_berdurasi  jumlah_kontak_selama_pemasaran  \\\n",
       "0    56                        261                               1   \n",
       "1    57                        149                               1   \n",
       "2    37                        226                               1   \n",
       "3    40                        151                               1   \n",
       "4    56                        307                               1   \n",
       "\n",
       "   jumlah_hari_berlalu  jumlah_kontak_sebelum_pemasaran  jumlah_karyawan  \\\n",
       "0                    0                                0             5191   \n",
       "1                    0                                0             5191   \n",
       "2                    0                                0             5191   \n",
       "3                    0                                0             5191   \n",
       "4                    0                                0             5191   \n",
       "\n",
       "   tingkat_variasi_pekerjaan  indeks_harga_konsumen  \\\n",
       "0                        1.1                 93.994   \n",
       "1                        1.1                 93.994   \n",
       "2                        1.1                 93.994   \n",
       "3                        1.1                 93.994   \n",
       "4                        1.1                 93.994   \n",
       "\n",
       "   indeks_kepercayaan_konsumen  tarif_euribor_3bulan  ... pernikahan  \\\n",
       "0                        -36.4                 4.857  ...    married   \n",
       "1                        -36.4                 4.857  ...    married   \n",
       "2                        -36.4                 4.857  ...    married   \n",
       "3                        -36.4                 4.857  ...    married   \n",
       "4                        -36.4                 4.857  ...    married   \n",
       "\n",
       "    pendidikan kredit_default pinjaman_rumah pinjaman_pribadi alat_komunikasi  \\\n",
       "0     basic.4y             no             no               no       telephone   \n",
       "1  high.school             no             no               no       telephone   \n",
       "2  high.school             no            yes               no       telephone   \n",
       "3     basic.6y             no             no               no       telephone   \n",
       "4  high.school             no             no              yes       telephone   \n",
       "\n",
       "  kontak_terakhir_bulan kontak_terakhir_hari luaran_marketing_sebelumnya  \\\n",
       "0                   may                  mon                 nonexistent   \n",
       "1                   may                  mon                 nonexistent   \n",
       "2                   may                  mon                 nonexistent   \n",
       "3                   may                  mon                 nonexistent   \n",
       "4                   may                  mon                 nonexistent   \n",
       "\n",
       "  berlangganan_deposito  \n",
       "0                    no  \n",
       "1                    no  \n",
       "2                    no  \n",
       "3                    no  \n",
       "4                    no  \n",
       "\n",
       "[5 rows x 21 columns]"
      ]
     },
     "execution_count": 31,
     "metadata": {},
     "output_type": "execute_result"
    }
   ],
   "source": [
    "bank_df.head()"
   ]
  },
  {
   "cell_type": "markdown",
   "id": "7995b98e",
   "metadata": {},
   "source": [
    "# Eksplorasi Data (Visualisasi)"
   ]
  },
  {
   "cell_type": "markdown",
   "id": "2c4eeaa8",
   "metadata": {},
   "source": [
    "## Berapa persentase setiap nilai pada kelas target?"
   ]
  },
  {
   "cell_type": "code",
   "execution_count": 32,
   "id": "db6b2d8e",
   "metadata": {},
   "outputs": [
    {
     "data": {
      "text/plain": [
       "no     36548\n",
       "yes     4640\n",
       "Name: berlangganan_deposito, dtype: int64"
      ]
     },
     "execution_count": 32,
     "metadata": {},
     "output_type": "execute_result"
    }
   ],
   "source": [
    "bank_df['berlangganan_deposito'].value_counts()"
   ]
  },
  {
   "cell_type": "code",
   "execution_count": 33,
   "id": "06965369",
   "metadata": {},
   "outputs": [
    {
     "data": {
      "text/plain": [
       "<matplotlib.legend.Legend at 0x276a616ac10>"
      ]
     },
     "execution_count": 33,
     "metadata": {},
     "output_type": "execute_result"
    },
    {
     "data": {
      "image/png": "[encoded data removed]",
      "text/plain": [
       "<Figure size 1152x432 with 2 Axes>"
      ]
     },
     "metadata": {
      "needs_background": "light"
     },
     "output_type": "display_data"
    }
   ],
   "source": [
    "fig, ax = plt.subplots(1,2,figsize=(16,6))\n",
    "\n",
    "# persentase \"berlangganan deposito\"\n",
    "bank_df['berlangganan_deposito'].value_counts().plot(\n",
    "    kind='pie',\n",
    "    autopct='%.1f%%',\n",
    "    explode=[0,0.05], \n",
    "    cmap='cool',\n",
    "    shadow=True,\n",
    "    ax=ax[0]\n",
    ")\n",
    "ax[0].set_title('Persentase Berlangganan Deposito')\n",
    "ax[0].set_ylabel('')\n",
    "\n",
    "# Barchart besaran setiap nilai pada kelas target\n",
    "bank_df.groupby('berlangganan_deposito').agg({'berlangganan_deposito':'count'}).plot(\n",
    "    kind='bar',\n",
    "    ax=ax[1]\n",
    ")\n",
    "ax[1].set_title('Jumlah masing-masing kelas pada label')\n",
    "ax[1].set_ylabel('Jumlah')\n",
    "ax[1].set_xlabel('Berlangganan Deposito')\n",
    "ax[1].legend(title='Deposit')"
   ]
  },
  {
   "cell_type": "markdown",
   "id": "aaf152e0",
   "metadata": {},
   "source": [
    "Terlihat bahwa dari data yang diperoleh, ada ketidakseimbangan proporsi dari setiap nilai pada label kelas. Hal ini mungkin akan berpengaruh kepada hasil *recall* klasifikasi yang rendah. Undersampling bisa jadi opsi ketika performa model klasifikasi tidak cukup bagus untuk mengenali kelas 'yes' <br>\n",
    "Nilai **yes** bahkan **7x lebih sedikit** dibandingkan nilai **no**."
   ]
  },
  {
   "cell_type": "markdown",
   "id": "a244588f",
   "metadata": {},
   "source": [
    "## Bagaimana kecenderungan berlangganan deposit dilihat dari status pernikahan?"
   ]
  },
  {
   "cell_type": "code",
   "execution_count": 34,
   "id": "c3fee585",
   "metadata": {},
   "outputs": [
    {
     "data": {
      "text/plain": [
       "<matplotlib.legend.Legend at 0x276a6786fa0>"
      ]
     },
     "execution_count": 34,
     "metadata": {},
     "output_type": "execute_result"
    },
    {
     "data": {
      "image/png": "[encoded data removed]",
      "text/plain": [
       "<Figure size 1152x432 with 2 Axes>"
      ]
     },
     "metadata": {
      "needs_background": "light"
     },
     "output_type": "display_data"
    }
   ],
   "source": [
    "fig, ax = plt.subplots(1,2,figsize=(16,6))\n",
    "\n",
    "# persentase \"marital\"\n",
    "bank_df['pernikahan'].value_counts().plot(\n",
    "    kind='pie', \n",
    "    ax=ax[0], \n",
    "    autopct='%.1f%%',\n",
    "    explode=[0,0.05,0.05], \n",
    "    cmap='coolwarm',\n",
    "    shadow=True,\n",
    ")\n",
    "ax[0].set_title('Persentase Customer berdasarkan status pernikahan')\n",
    "ax[0].set_ylabel('')\n",
    "\n",
    "# Barchart besaran setiap status pernikahan terhadap setiap kelas target\n",
    "sns.countplot(\n",
    "    x='pernikahan',\n",
    "    hue='berlangganan_deposito',\n",
    "    data=bank_df\n",
    ")\n",
    "ax[1].set_title('Jumlah status pernikahan terhadap berlangganan deposito')\n",
    "ax[1].set_ylabel('Jumlah')\n",
    "ax[1].set_xlabel('Status Pernikahan')\n",
    "ax[1].legend(title='Deposit')"
   ]
  },
  {
   "cell_type": "markdown",
   "id": "daff3af6",
   "metadata": {},
   "source": [
    "Data didominasi oleh status pernikahan \"married\". Status pernikahan ini memberikan jumlah berlangganan deposit untuk kelas 'No' dan 'Yes' tertinggi dibanding 2 status pernikahan lainnya."
   ]
  },
  {
   "cell_type": "markdown",
   "id": "e47c43f5",
   "metadata": {},
   "source": [
    "# Preprocessing Datasets sebelum Modelling"
   ]
  },
  {
   "cell_type": "markdown",
   "id": "2c49a7d6",
   "metadata": {},
   "source": [
    "## Encoding Variabel Kategorik \n",
    "***\n",
    "Atribut yang bertipe kategorikan akan dipisahkan menjadi tipe ordinal dan nominal. Tipe ordinal adalah ada tingkatan diantara nilainya, sedangkan pada tipe nominal tidak terdapat tingkatan diantara nilainya dan semua nilai dianggap setara. <br>\n",
    "Berikut ini adalah 12 atribut dengan tipe kategorikal: <br>\n",
    "1. job <br>\n",
    "(\"admin.\",\"blue-collar\",\"entrepreneur\",\"housemaid\",\"management\",\"retired\",\"self-employed\",\"services\",\"student\",\"technician\",\"unemployed\",\"unknown\")\n",
    "2. marital <br>\n",
    "(\"divorced\",\"married\",\"single\",\"unknown\") <br>\n",
    "note: \"divorced\" means divorced or widowed\n",
    "3. education <br>\n",
    "(\"basic.4y\",\"basic.6y\",\"basic.9y\",\"high.school\",\"illiterate\",\"professional.course\",\"university.degree\",\"unknown\")\n",
    "4. default <br>\n",
    "(\"no\",\"yes\",\"unknown\")\n",
    "5. housing <br>\n",
    "(\"no\",\"yes\",\"unknown\")\n",
    "6. loan <br>\n",
    "(\"no\",\"yes\",\"unknown\")\n",
    "7. contact <br>\n",
    "(\"cellular\",\"telephone\")\n",
    "9. month <br>\n",
    "(\"jan\", \"feb\", \"mar\", ..., \"nov\", \"dec\")\n",
    "10. day_of_week <br>\n",
    "(\"mon\",\"tue\",\"wed\",\"thu\",\"fri\")\n",
    "11. poutcome <br>\n",
    "(\"failure\",\"nonexistent\",\"success\")\n",
    "12. y (target) <br>\n",
    "(\"yes\",\"no\")\n",
    "\n",
    "Dari sini akan dibagi menjadi: <br>\n",
    "**Nominal Atribut** : (job, education, contact, month, day_of_week, poutcome) <br>\n",
    "**Ordinal Atribut** : (marital, default, housing, loan, y) <br>\n",
    "\n",
    "Atribut bertipe **nominal** akan dilakukan one-hot encoding, sedangkan atribut bertipe **ordinal** akan dilakukan label encoding"
   ]
  },
  {
   "cell_type": "markdown",
   "id": "7b1fce1f",
   "metadata": {},
   "source": [
    "### Mengelompokkan atribut berdasarkan tipe datanya"
   ]
  },
  {
   "cell_type": "code",
   "execution_count": 35,
   "id": "85c659bf",
   "metadata": {},
   "outputs": [],
   "source": [
    "numerical_columns = list(bank_df.select_dtypes(include=['int64']).columns.values) + list(bank_df.select_dtypes(include=['float64']).columns.values)\n",
    "categorical_columns = list(bank_df.select_dtypes(include=['object']))"
   ]
  },
  {
   "cell_type": "code",
   "execution_count": 36,
   "id": "06eed327",
   "metadata": {},
   "outputs": [],
   "source": [
    "# memilih atribut nominal dari atribut kategori\n",
    "nominal_columns = ['pekerjaan', 'pendidikan', 'alat_komunikasi', 'kontak_terakhir_bulan', 'kontak_terakhir_hari', 'luaran_marketing_sebelumnya']\n",
    "ordinal_columns = [col for col in categorical_columns if col not in nominal_columns]"
   ]
  },
  {
   "cell_type": "markdown",
   "id": "73628243",
   "metadata": {},
   "source": [
    "### One Hot Encoding untuk Nominal Atribut"
   ]
  },
  {
   "cell_type": "code",
   "execution_count": 37,
   "id": "4a0cbbc7",
   "metadata": {},
   "outputs": [],
   "source": [
    "# one hot encoding pada data untuk nominal columns\n",
    "ohe_bank_df = pd.get_dummies(bank_df[nominal_columns], columns=nominal_columns, prefix=nominal_columns)"
   ]
  },
  {
   "cell_type": "markdown",
   "id": "2d55b5fa",
   "metadata": {},
   "source": [
    "### Label Enconding untuk ordinal atribut"
   ]
  },
  {
   "cell_type": "code",
   "execution_count": 38,
   "id": "18cf09a0",
   "metadata": {},
   "outputs": [],
   "source": [
    "le_bank_df = bank_df.loc[:,ordinal_columns]\n",
    "# instansiasi kelas LabelEncoder\n",
    "encoder = LabelEncoder()"
   ]
  },
  {
   "cell_type": "code",
   "execution_count": 39,
   "id": "638e2113",
   "metadata": {},
   "outputs": [],
   "source": [
    "# label encoding\n",
    "for ord_col in ordinal_columns:\n",
    "    le_bank_df[ord_col] = encoder.fit_transform(le_bank_df[ord_col])"
   ]
  },
  {
   "cell_type": "markdown",
   "id": "767146a3",
   "metadata": {},
   "source": [
    "### Concatination data hasil one hot encoding dan label encoding menjadi 1 dataframe"
   ]
  },
  {
   "cell_type": "code",
   "execution_count": 40,
   "id": "30afa949",
   "metadata": {},
   "outputs": [],
   "source": [
    "bank_df_categorical_encoded = pd.concat([ohe_bank_df,le_bank_df],axis=1)"
   ]
  },
  {
   "cell_type": "markdown",
   "id": "2bac3b3a",
   "metadata": {},
   "source": [
    "### Menampilkan 5 data teratas hasil encoding"
   ]
  },
  {
   "cell_type": "code",
   "execution_count": 41,
   "id": "da2a8a9e",
   "metadata": {},
   "outputs": [
    {
     "data": {
      "text/html": [
       "<div>\n",
       "<style scoped>\n",
       "    .dataframe tbody tr th:only-of-type {\n",
       "        vertical-align: middle;\n",
       "    }\n",
       "\n",
       "    .dataframe tbody tr th {\n",
       "        vertical-align: top;\n",
       "    }\n",
       "\n",
       "    .dataframe thead th {\n",
       "        text-align: right;\n",
       "    }\n",
       "</style>\n",
       "<table border=\"1\" class=\"dataframe\">\n",
       "  <thead>\n",
       "    <tr style=\"text-align: right;\">\n",
       "      <th></th>\n",
       "      <th>pekerjaan_admin.</th>\n",
       "      <th>pekerjaan_blue-collar</th>\n",
       "      <th>pekerjaan_entrepreneur</th>\n",
       "      <th>pekerjaan_housemaid</th>\n",
       "      <th>pekerjaan_management</th>\n",
       "      <th>pekerjaan_retired</th>\n",
       "      <th>pekerjaan_self-employed</th>\n",
       "      <th>pekerjaan_services</th>\n",
       "      <th>pekerjaan_student</th>\n",
       "      <th>pekerjaan_technician</th>\n",
       "      <th>...</th>\n",
       "      <th>kontak_terakhir_hari_tue</th>\n",
       "      <th>kontak_terakhir_hari_wed</th>\n",
       "      <th>luaran_marketing_sebelumnya_failure</th>\n",
       "      <th>luaran_marketing_sebelumnya_nonexistent</th>\n",
       "      <th>luaran_marketing_sebelumnya_success</th>\n",
       "      <th>pernikahan</th>\n",
       "      <th>kredit_default</th>\n",
       "      <th>pinjaman_rumah</th>\n",
       "      <th>pinjaman_pribadi</th>\n",
       "      <th>berlangganan_deposito</th>\n",
       "    </tr>\n",
       "  </thead>\n",
       "  <tbody>\n",
       "    <tr>\n",
       "      <th>0</th>\n",
       "      <td>0</td>\n",
       "      <td>0</td>\n",
       "      <td>0</td>\n",
       "      <td>1</td>\n",
       "      <td>0</td>\n",
       "      <td>0</td>\n",
       "      <td>0</td>\n",
       "      <td>0</td>\n",
       "      <td>0</td>\n",
       "      <td>0</td>\n",
       "      <td>...</td>\n",
       "      <td>0</td>\n",
       "      <td>0</td>\n",
       "      <td>0</td>\n",
       "      <td>1</td>\n",
       "      <td>0</td>\n",
       "      <td>1</td>\n",
       "      <td>0</td>\n",
       "      <td>0</td>\n",
       "      <td>0</td>\n",
       "      <td>0</td>\n",
       "    </tr>\n",
       "    <tr>\n",
       "      <th>1</th>\n",
       "      <td>0</td>\n",
       "      <td>0</td>\n",
       "      <td>0</td>\n",
       "      <td>0</td>\n",
       "      <td>0</td>\n",
       "      <td>0</td>\n",
       "      <td>0</td>\n",
       "      <td>1</td>\n",
       "      <td>0</td>\n",
       "      <td>0</td>\n",
       "      <td>...</td>\n",
       "      <td>0</td>\n",
       "      <td>0</td>\n",
       "      <td>0</td>\n",
       "      <td>1</td>\n",
       "      <td>0</td>\n",
       "      <td>1</td>\n",
       "      <td>0</td>\n",
       "      <td>0</td>\n",
       "      <td>0</td>\n",
       "      <td>0</td>\n",
       "    </tr>\n",
       "    <tr>\n",
       "      <th>2</th>\n",
       "      <td>0</td>\n",
       "      <td>0</td>\n",
       "      <td>0</td>\n",
       "      <td>0</td>\n",
       "      <td>0</td>\n",
       "      <td>0</td>\n",
       "      <td>0</td>\n",
       "      <td>1</td>\n",
       "      <td>0</td>\n",
       "      <td>0</td>\n",
       "      <td>...</td>\n",
       "      <td>0</td>\n",
       "      <td>0</td>\n",
       "      <td>0</td>\n",
       "      <td>1</td>\n",
       "      <td>0</td>\n",
       "      <td>1</td>\n",
       "      <td>0</td>\n",
       "      <td>1</td>\n",
       "      <td>0</td>\n",
       "      <td>0</td>\n",
       "    </tr>\n",
       "    <tr>\n",
       "      <th>3</th>\n",
       "      <td>1</td>\n",
       "      <td>0</td>\n",
       "      <td>0</td>\n",
       "      <td>0</td>\n",
       "      <td>0</td>\n",
       "      <td>0</td>\n",
       "      <td>0</td>\n",
       "      <td>0</td>\n",
       "      <td>0</td>\n",
       "      <td>0</td>\n",
       "      <td>...</td>\n",
       "      <td>0</td>\n",
       "      <td>0</td>\n",
       "      <td>0</td>\n",
       "      <td>1</td>\n",
       "      <td>0</td>\n",
       "      <td>1</td>\n",
       "      <td>0</td>\n",
       "      <td>0</td>\n",
       "      <td>0</td>\n",
       "      <td>0</td>\n",
       "    </tr>\n",
       "    <tr>\n",
       "      <th>4</th>\n",
       "      <td>0</td>\n",
       "      <td>0</td>\n",
       "      <td>0</td>\n",
       "      <td>0</td>\n",
       "      <td>0</td>\n",
       "      <td>0</td>\n",
       "      <td>0</td>\n",
       "      <td>1</td>\n",
       "      <td>0</td>\n",
       "      <td>0</td>\n",
       "      <td>...</td>\n",
       "      <td>0</td>\n",
       "      <td>0</td>\n",
       "      <td>0</td>\n",
       "      <td>1</td>\n",
       "      <td>0</td>\n",
       "      <td>1</td>\n",
       "      <td>0</td>\n",
       "      <td>0</td>\n",
       "      <td>1</td>\n",
       "      <td>0</td>\n",
       "    </tr>\n",
       "  </tbody>\n",
       "</table>\n",
       "<p>5 rows × 43 columns</p>\n",
       "</div>"
      ],
      "text/plain": [
       "   pekerjaan_admin.  pekerjaan_blue-collar  pekerjaan_entrepreneur  \\\n",
       "0                 0                      0                       0   \n",
       "1                 0                      0                       0   \n",
       "2                 0                      0                       0   \n",
       "3                 1                      0                       0   \n",
       "4                 0                      0                       0   \n",
       "\n",
       "   pekerjaan_housemaid  pekerjaan_management  pekerjaan_retired  \\\n",
       "0                    1                     0                  0   \n",
       "1                    0                     0                  0   \n",
       "2                    0                     0                  0   \n",
       "3                    0                     0                  0   \n",
       "4                    0                     0                  0   \n",
       "\n",
       "   pekerjaan_self-employed  pekerjaan_services  pekerjaan_student  \\\n",
       "0                        0                   0                  0   \n",
       "1                        0                   1                  0   \n",
       "2                        0                   1                  0   \n",
       "3                        0                   0                  0   \n",
       "4                        0                   1                  0   \n",
       "\n",
       "   pekerjaan_technician  ...  kontak_terakhir_hari_tue  \\\n",
       "0                     0  ...                         0   \n",
       "1                     0  ...                         0   \n",
       "2                     0  ...                         0   \n",
       "3                     0  ...                         0   \n",
       "4                     0  ...                         0   \n",
       "\n",
       "   kontak_terakhir_hari_wed  luaran_marketing_sebelumnya_failure  \\\n",
       "0                         0                                    0   \n",
       "1                         0                                    0   \n",
       "2                         0                                    0   \n",
       "3                         0                                    0   \n",
       "4                         0                                    0   \n",
       "\n",
       "   luaran_marketing_sebelumnya_nonexistent  \\\n",
       "0                                        1   \n",
       "1                                        1   \n",
       "2                                        1   \n",
       "3                                        1   \n",
       "4                                        1   \n",
       "\n",
       "   luaran_marketing_sebelumnya_success  pernikahan  kredit_default  \\\n",
       "0                                    0           1               0   \n",
       "1                                    0           1               0   \n",
       "2                                    0           1               0   \n",
       "3                                    0           1               0   \n",
       "4                                    0           1               0   \n",
       "\n",
       "   pinjaman_rumah  pinjaman_pribadi  berlangganan_deposito  \n",
       "0               0                 0                      0  \n",
       "1               0                 0                      0  \n",
       "2               1                 0                      0  \n",
       "3               0                 0                      0  \n",
       "4               0                 1                      0  \n",
       "\n",
       "[5 rows x 43 columns]"
      ]
     },
     "execution_count": 41,
     "metadata": {},
     "output_type": "execute_result"
    }
   ],
   "source": [
    "# 5 data teratas \n",
    "bank_df_categorical_encoded.head()"
   ]
  },
  {
   "cell_type": "markdown",
   "id": "98ebb556",
   "metadata": {},
   "source": [
    "## Mengukur pengaruh atribut pada kelas target"
   ]
  },
  {
   "cell_type": "markdown",
   "id": "ef221352",
   "metadata": {},
   "source": [
    "### Pengaruh atribut kategorikal pada kelas target\n",
    "***\n",
    "Pengaruh atribut/fitur bertipe **kategorikal** dapat diukur dengan **Chi-Squared**"
   ]
  },
  {
   "cell_type": "code",
   "execution_count": 42,
   "id": "57d16ddc",
   "metadata": {},
   "outputs": [],
   "source": [
    "# mendapatkan daftar kolom baru hasil encoding\n",
    "ec_categorical_columns = list(bank_df_categorical_encoded.columns)\n",
    "ec_categorical_columns.remove('berlangganan_deposito')\n",
    "\n",
    "# Menyiapkan atribute dan target\n",
    "X_categorical = bank_df_categorical_encoded.drop('berlangganan_deposito',axis=1)\n",
    "y_categorical = bank_df_categorical_encoded['berlangganan_deposito']"
   ]
  },
  {
   "cell_type": "code",
   "execution_count": 43,
   "id": "650bb25b",
   "metadata": {},
   "outputs": [],
   "source": [
    "# instansiasi kelas untuk Chi-Squared\n",
    "chi_square_fs = SelectKBest(score_func=chi2,k='all')\n",
    "\n",
    "# fit chi-square into data\n",
    "X_categorical_selected = chi_square_fs.fit_transform(X_categorical,y_categorical)"
   ]
  },
  {
   "cell_type": "code",
   "execution_count": 44,
   "id": "b907f4d5",
   "metadata": {},
   "outputs": [
    {
     "data": {
      "image/png": "[encoded data removed]",
      "text/plain": [
       "<Figure size 864x720 with 1 Axes>"
      ]
     },
     "metadata": {
      "needs_background": "light"
     },
     "output_type": "display_data"
    }
   ],
   "source": [
    "# Plotting score setiap atribut kategorikal\n",
    "plt.figure(figsize=(12,10))\n",
    "plt.barh([cat_col for cat_col in ec_categorical_columns], chi_square_fs.scores_)\n",
    "plt.ylabel('Daftar Atribut Kategorikal', fontsize=12)\n",
    "plt.xlabel('Nilai Chi-Squared Feature Importance', fontsize=12)\n",
    "plt.title('Grafik batang atribut (x) vs The Chi-Squared Feature Importance (y)',fontsize=12)\n",
    "plt.show()"
   ]
  },
  {
   "cell_type": "markdown",
   "id": "c249a19b",
   "metadata": {},
   "source": [
    "Atribut **luaran_marketing_sebelumnya_success** menjadi atribut kategorikal yang memberikan kepentingan atribut tertinggi dibandingkan dengan yang lainnya. Bahkan rentang nilainya cukup jauh dibandingkan dengan atribut yang lainnya."
   ]
  },
  {
   "cell_type": "markdown",
   "id": "5862ea35",
   "metadata": {},
   "source": [
    "### Pengaruh atribut numerikal pada kelas target\n",
    "***\n",
    "Kepentingan atribut numerik terhadap label kelas kategorikal bisa diukur dengan ANOVA F-score"
   ]
  },
  {
   "cell_type": "code",
   "execution_count": 45,
   "id": "e43cbb39",
   "metadata": {},
   "outputs": [],
   "source": [
    "# menyiapkan atribut dan target\n",
    "X_numerical = bank_df[numerical_columns].copy(deep=True)\n",
    "y_numerical = y_categorical.copy(deep=True)"
   ]
  },
  {
   "cell_type": "code",
   "execution_count": 46,
   "id": "e3d3afcc",
   "metadata": {},
   "outputs": [],
   "source": [
    "# instansiasi kelas anova\n",
    "anova_fs = SelectKBest(score_func=f_classif,k='all')\n",
    "\n",
    "# fit into data\n",
    "X_numerical_selected = anova_fs.fit_transform(X_numerical,y_numerical)"
   ]
  },
  {
   "cell_type": "code",
   "execution_count": 47,
   "id": "7a7d6599",
   "metadata": {},
   "outputs": [
    {
     "data": {
      "image/png": "[encoded data removed]",
      "text/plain": [
       "<Figure size 864x720 with 1 Axes>"
      ]
     },
     "metadata": {
      "needs_background": "light"
     },
     "output_type": "display_data"
    }
   ],
   "source": [
    "# Plotting score setiap atribut kategorikal\n",
    "plt.figure(figsize=(12,10))\n",
    "plt.barh([num_col for num_col in list(X_numerical.columns)], anova_fs.scores_)\n",
    "plt.ylabel('Daftar Atribut Numerikal', fontsize=12)\n",
    "plt.xlabel('Nilai ANOVA F-measure Feature Importance', fontsize=12)\n",
    "plt.title('Grafik batang atribut (x) vs The ANOVA F-measure Feature Importance (y)',fontsize=12)\n",
    "plt.show()"
   ]
  },
  {
   "cell_type": "markdown",
   "id": "ea87db12",
   "metadata": {},
   "source": [
    "Atribut **kontak_terakhir_berdurasi** memiliki kepentingan atribut yang paling tinggi dibandingkan atribut numerikal lainnya. Hal ini masuk akal karena keberhasilan *customer* berlangganan deposito ditentukan berapa lama durasi pemasaran/kampanye yang dilakukan pihak bank melalui telepon"
   ]
  },
  {
   "cell_type": "markdown",
   "id": "4dfb77cd",
   "metadata": {},
   "source": [
    "## Menyatukan data bertipe numerikal dan data bertipe kategorikal hasil encoding"
   ]
  },
  {
   "cell_type": "code",
   "execution_count": 48,
   "id": "a890ac6f",
   "metadata": {},
   "outputs": [],
   "source": [
    "bank_df = pd.concat([bank_df[numerical_columns],bank_df_categorical_encoded],axis=1)"
   ]
  },
  {
   "cell_type": "markdown",
   "id": "2bfd444f",
   "metadata": {},
   "source": [
    "## Pembagian dataset ke dalam data latih dan data uji\n",
    "***\n",
    "Dataset akan dibagi ke dalam **80% data latih** dan **20% data uji**. <br>\n",
    "1. Data latih akan digunakan untuk proses tuning parameter dan hyperparameter serta melakukan feature selection\n",
    "2. Data latih akan digunakan untuk melatih model setelah mendapatkan hyperparameter terbaik dengan fitur terbaik  hasil seleksi\n",
    "3. Data uji digunakan untuk menguji performa model klasifikasi yang sudah dilatih"
   ]
  },
  {
   "cell_type": "markdown",
   "id": "7a1350fb",
   "metadata": {},
   "source": [
    "### Pisahkan attributes sebagai X dan target sebagai y"
   ]
  },
  {
   "cell_type": "code",
   "execution_count": 49,
   "id": "e51ac7e0",
   "metadata": {},
   "outputs": [],
   "source": [
    "X = bank_df.drop('berlangganan_deposito',axis=1)\n",
    "y = bank_df['berlangganan_deposito']"
   ]
  },
  {
   "cell_type": "markdown",
   "id": "8692662b",
   "metadata": {},
   "source": [
    "### Train test split (80 train : 20 test)"
   ]
  },
  {
   "cell_type": "code",
   "execution_count": 50,
   "id": "1e3ca011",
   "metadata": {},
   "outputs": [],
   "source": [
    "X_train,X_test,y_train,y_test = train_test_split(X,y,test_size=0.2,random_state=42)"
   ]
  },
  {
   "cell_type": "markdown",
   "id": "4db28aa6",
   "metadata": {},
   "source": [
    "### Mengetahui dimensi data train dan data test"
   ]
  },
  {
   "cell_type": "code",
   "execution_count": 51,
   "id": "7536183e",
   "metadata": {},
   "outputs": [
    {
     "name": "stdout",
     "output_type": "stream",
     "text": [
      "Dimensi atribut data latih =  (32950, 52)\n",
      "Dimensi target data latih =  (32950,)\n",
      "Dimensi atribut data uji =  (8238, 52)\n",
      "Dimensi target data uji =  (8238,)\n"
     ]
    }
   ],
   "source": [
    "print(\"Dimensi atribut data latih = \", X_train.shape)\n",
    "print(\"Dimensi target data latih = \", y_train.shape)\n",
    "print(\"Dimensi atribut data uji = \", X_test.shape)\n",
    "print(\"Dimensi target data uji = \", y_test.shape)"
   ]
  },
  {
   "cell_type": "markdown",
   "id": "373caa65",
   "metadata": {},
   "source": [
    "## Normalisasi Data\n",
    "***\n",
    "Metode Normalisasi *z-score* digunakan untuk menyamakan skala dari setiap atribut pada data ke standard normal distribution (mean=0, std=1)"
   ]
  },
  {
   "cell_type": "code",
   "execution_count": 52,
   "id": "b4a7f522",
   "metadata": {},
   "outputs": [],
   "source": [
    "# instansiasi kelas StandardScaler\n",
    "standard_scaler = StandardScaler()\n",
    "\n",
    "# fit scaler into train data\n",
    "standard_scaler.fit(X_train)\n",
    "\n",
    "# transform data with scaler\n",
    "X_train = standard_scaler.transform(X_train)\n",
    "X_test = standard_scaler.transform(X_test)"
   ]
  },
  {
   "cell_type": "markdown",
   "id": "463554d7",
   "metadata": {},
   "source": [
    "## Dimensionality Reduction\n",
    "***\n",
    "Jumlah dimensi akan dikurangi dengan PCA"
   ]
  },
  {
   "cell_type": "markdown",
   "id": "dfb3041c",
   "metadata": {},
   "source": [
    "### Menerapkan PCA pada data latih"
   ]
  },
  {
   "cell_type": "code",
   "execution_count": 53,
   "id": "38c47948",
   "metadata": {},
   "outputs": [
    {
     "name": "stdout",
     "output_type": "stream",
     "text": [
      "Nilai Eigen setiap Principal Component\n",
      "[5.74715253e+00 2.71510082e+00 2.32584675e+00 2.09435588e+00\n",
      " 1.89681260e+00 1.78991546e+00 1.66079754e+00 1.58937485e+00\n",
      " 1.54491348e+00 1.28673666e+00 1.27051123e+00 1.25381520e+00\n",
      " 1.22916509e+00 1.20804316e+00 1.19303497e+00 1.14804225e+00\n",
      " 1.10930057e+00 1.09732622e+00 1.06241706e+00 1.05708301e+00\n",
      " 1.04154047e+00 1.03330793e+00 1.02690794e+00 1.02329725e+00\n",
      " 1.00737254e+00 1.00162104e+00 9.89606324e-01 9.86620020e-01\n",
      " 9.71787254e-01 9.53014399e-01 9.36042929e-01 8.82715763e-01\n",
      " 8.54224586e-01 7.91167280e-01 7.33460454e-01 7.13307261e-01\n",
      " 6.11026143e-01 4.47316342e-01 4.29103107e-01 4.13295570e-01\n",
      " 2.84697693e-01 2.39346939e-01 2.22778358e-01 1.22254888e-01\n",
      " 3.93745080e-03 2.08293790e-03 1.13342599e-30 2.83787648e-31\n",
      " 2.40026339e-31 8.63289968e-32 3.77142680e-32 2.32748923e-33]\n",
      "==============================\n",
      "Rasio Nilai Eigen setiap Principal Component\n",
      "[1.10518810e-01 5.22118926e-02 4.47264646e-02 4.02748523e-02\n",
      " 3.64760584e-02 3.44204064e-02 3.19374449e-02 3.05639733e-02\n",
      " 2.97089730e-02 2.47441847e-02 2.44321667e-02 2.41110990e-02\n",
      " 2.36370729e-02 2.32308941e-02 2.29422840e-02 2.20770656e-02\n",
      " 2.13320559e-02 2.11017869e-02 2.04304772e-02 2.03279024e-02\n",
      " 2.00290166e-02 1.98707033e-02 1.97476303e-02 1.96781960e-02\n",
      " 1.93719609e-02 1.92613586e-02 1.90303133e-02 1.89728861e-02\n",
      " 1.86876493e-02 1.83266438e-02 1.80002792e-02 1.69747880e-02\n",
      " 1.64268973e-02 1.52142936e-02 1.41045807e-02 1.37170310e-02\n",
      " 1.17501461e-02 8.60197627e-03 8.25173239e-03 7.94775051e-03\n",
      " 5.47478948e-03 4.60268606e-03 4.28406918e-03 2.35098419e-03\n",
      " 7.57179096e-05 4.00552824e-05 2.17959921e-32 5.45728914e-33\n",
      " 4.61575105e-33 1.66012263e-33 7.25252374e-34 4.47580499e-35]\n",
      "==============================\n"
     ]
    }
   ],
   "source": [
    "# instansiasi objek PCA\n",
    "pca_ = PCA()\n",
    "\n",
    "# fit into training data\n",
    "pca_.fit(X_train)\n",
    "\n",
    "# mencetak nilai eigen setiap principal component\n",
    "print('Nilai Eigen setiap Principal Component')\n",
    "print(pca_.explained_variance_)\n",
    "print(\"=\"*30)\n",
    "\n",
    "# mencetak ratio masing-masing nilai eigen terhadap keseluruhan\n",
    "print('Rasio Nilai Eigen setiap Principal Component')\n",
    "print(pca_.explained_variance_ratio_)\n",
    "print(\"=\"*30)"
   ]
  },
  {
   "cell_type": "markdown",
   "id": "4875c8fd",
   "metadata": {},
   "source": [
    "### Plotting Ratio Nilai Eigen yang dihasilkan PCA terhadap data latih"
   ]
  },
  {
   "cell_type": "code",
   "execution_count": 54,
   "id": "2ef80120",
   "metadata": {},
   "outputs": [],
   "source": [
    "# membuat dataframe untuk memplotting variance ratio yang dihasilkan PCA\n",
    "pca_variance = pd.DataFrame(data=pca_.explained_variance_ratio_,columns=['PC Variance'])\n",
    "pca_variance['pc_name'] = pd.Series(data=['PC-'+str(i+1) for i in range(0,X_train.shape[1])])\n",
    "pca_variance = pca_variance.sort_values(by='PC Variance')"
   ]
  },
  {
   "cell_type": "code",
   "execution_count": 55,
   "id": "357de957",
   "metadata": {},
   "outputs": [
    {
     "data": {
      "image/png": "[encoded data removed]",
      "text/plain": [
       "<Figure size 864x1008 with 1 Axes>"
      ]
     },
     "metadata": {
      "needs_background": "light"
     },
     "output_type": "display_data"
    }
   ],
   "source": [
    "# Plotting variance ratio yang dijelaskan setiap component\n",
    "plt.figure(figsize=(12,14))\n",
    "pca_variance['PC Variance'].plot(kind='barh')\n",
    "plt.yticks(ticks=range(0,X_train.shape[1]), labels=pca_variance['pc_name'])\n",
    "plt.title('Rasio Variance yang dihasilkan setiap Principal Component')\n",
    "plt.xlabel('Rasio Variance')\n",
    "plt.ylabel('Principal Component')\n",
    "plt.show()"
   ]
  },
  {
   "cell_type": "markdown",
   "id": "d923f592",
   "metadata": {},
   "source": [
    "### Mencari jumlah principal component terbaik\n",
    "***\n",
    "Ada beberapa metode untuk menentukan jumlah principal component terbaik yang harus digunakan. Salah satu sumber menyebutkan: <br>\n",
    "1. Jumlah PC terbaik yang terpilih adalah PC yang menghasilkan nilai eigen lebih besar atau sama dengan 1"
   ]
  },
  {
   "cell_type": "code",
   "execution_count": 56,
   "id": "f915c5e0",
   "metadata": {},
   "outputs": [],
   "source": [
    "# Mencari jumlah n_component yang menghasilkan nilai eigen value >= 1\n",
    "def find_best_n_components(pca):\n",
    "    \"\"\"\n",
    "        Deskripsi Fungsi:\n",
    "        - Fungsi untuk mencari jumlah principal component terbaik dari hasil PCA pada data latih \n",
    "        dengan syarat nilai eigen PC >= 1\n",
    "        \n",
    "        Parameter Fungsi:\n",
    "        -pca : model pca yang sudah difitting pada data latih\n",
    "        \n",
    "        Return Fungsi:\n",
    "        -n_best_component: jumlah principal component terbaik yang memenuhi syarat\n",
    "        \n",
    "    \"\"\"\n",
    "    \n",
    "    n_best_component = 0\n",
    "    for i in range(0,len(pca.explained_variance_)):\n",
    "        if pca.explained_variance_[i]>=1:\n",
    "            n_best_component+=1\n",
    "    \n",
    "    return n_best_component"
   ]
  },
  {
   "cell_type": "code",
   "execution_count": 57,
   "id": "3049dac8",
   "metadata": {},
   "outputs": [
    {
     "name": "stdout",
     "output_type": "stream",
     "text": [
      "Jumlah n Principal Component terbaik = 26 komponen\n",
      "Informasi yang dijelaskan oleh 26 komponen = 77.71647303428311 %\n",
      "Kehilangan Informasi = 22.283526965716888 %\n"
     ]
    }
   ],
   "source": [
    "# mencari jumlah principal component terbaik\n",
    "n_components = find_best_n_components(pca_)\n",
    "print('Jumlah n Principal Component terbaik = {} komponen'.format(n_components))\n",
    "print('Informasi yang dijelaskan oleh {} komponen = {} %'.format(n_components,(np.sum(pca_.explained_variance_ratio_[:n_components]))*100))\n",
    "print('Kehilangan Informasi = {} %'.format(100-(np.sum(pca_.explained_variance_ratio_[:n_components]))*100))"
   ]
  },
  {
   "cell_type": "markdown",
   "id": "2937ffaa",
   "metadata": {},
   "source": [
    "### Instansiasi PCA dengan n component terbaik\n",
    "***\n",
    "1. Buat PCA dengan n component terbaik\n",
    "2. Fitting ke data latih \n",
    "3. Transform ke atribut data latih dan data uji"
   ]
  },
  {
   "cell_type": "code",
   "execution_count": 58,
   "id": "8a319248",
   "metadata": {},
   "outputs": [],
   "source": [
    "# instansiasi objek PCA\n",
    "pca_ = PCA(n_components=n_components)\n",
    "\n",
    "# fit into training data\n",
    "pca_.fit(X_train)\n",
    "\n",
    "# transform into train and test data\n",
    "X_train_pca = pca_.transform(X_train)\n",
    "X_test_pca = pca_.transform(X_test)"
   ]
  },
  {
   "cell_type": "markdown",
   "id": "b0aa285e",
   "metadata": {},
   "source": [
    "### Buat DataFrame hasil perhitungan PCA"
   ]
  },
  {
   "cell_type": "code",
   "execution_count": 59,
   "id": "8ec4fdf1",
   "metadata": {},
   "outputs": [],
   "source": [
    "# buat dataframe untuk mempermudah melihat data hasil PCA\n",
    "train_pca_df = pd.DataFrame(data=X_train_pca,columns=['PC-'+str(i) for i in range(0,n_components)])\n",
    "train_pca_df['target'] = y_train.to_numpy()\n",
    "\n",
    "test_pca_df = pd.DataFrame(data=X_test_pca,columns=['PC-'+str(i) for i in range(0,n_components)])\n",
    "test_pca_df['target'] = y_test.to_numpy()"
   ]
  },
  {
   "cell_type": "markdown",
   "id": "f927f890",
   "metadata": {},
   "source": [
    "# Data yang siap dimodelkan"
   ]
  },
  {
   "cell_type": "markdown",
   "id": "ca085c81",
   "metadata": {},
   "source": [
    "## Data Latih"
   ]
  },
  {
   "cell_type": "markdown",
   "id": "faccb110",
   "metadata": {},
   "source": [
    "### Atribut"
   ]
  },
  {
   "cell_type": "code",
   "execution_count": 60,
   "id": "a6767500",
   "metadata": {},
   "outputs": [
    {
     "data": {
      "text/html": [
       "<div>\n",
       "<style scoped>\n",
       "    .dataframe tbody tr th:only-of-type {\n",
       "        vertical-align: middle;\n",
       "    }\n",
       "\n",
       "    .dataframe tbody tr th {\n",
       "        vertical-align: top;\n",
       "    }\n",
       "\n",
       "    .dataframe thead th {\n",
       "        text-align: right;\n",
       "    }\n",
       "</style>\n",
       "<table border=\"1\" class=\"dataframe\">\n",
       "  <thead>\n",
       "    <tr style=\"text-align: right;\">\n",
       "      <th></th>\n",
       "      <th>PC-0</th>\n",
       "      <th>PC-1</th>\n",
       "      <th>PC-2</th>\n",
       "      <th>PC-3</th>\n",
       "      <th>PC-4</th>\n",
       "      <th>PC-5</th>\n",
       "      <th>PC-6</th>\n",
       "      <th>PC-7</th>\n",
       "      <th>PC-8</th>\n",
       "      <th>PC-9</th>\n",
       "      <th>...</th>\n",
       "      <th>PC-17</th>\n",
       "      <th>PC-18</th>\n",
       "      <th>PC-19</th>\n",
       "      <th>PC-20</th>\n",
       "      <th>PC-21</th>\n",
       "      <th>PC-22</th>\n",
       "      <th>PC-23</th>\n",
       "      <th>PC-24</th>\n",
       "      <th>PC-25</th>\n",
       "      <th>target</th>\n",
       "    </tr>\n",
       "  </thead>\n",
       "  <tbody>\n",
       "    <tr>\n",
       "      <th>0</th>\n",
       "      <td>-2.429701</td>\n",
       "      <td>1.091011</td>\n",
       "      <td>-1.418257</td>\n",
       "      <td>0.861760</td>\n",
       "      <td>1.646166</td>\n",
       "      <td>-0.306587</td>\n",
       "      <td>-1.347873</td>\n",
       "      <td>0.752827</td>\n",
       "      <td>-0.245521</td>\n",
       "      <td>0.777171</td>\n",
       "      <td>...</td>\n",
       "      <td>-0.222843</td>\n",
       "      <td>-0.457519</td>\n",
       "      <td>0.337269</td>\n",
       "      <td>-0.318818</td>\n",
       "      <td>-0.257295</td>\n",
       "      <td>0.129479</td>\n",
       "      <td>-0.082151</td>\n",
       "      <td>-0.132516</td>\n",
       "      <td>-0.219709</td>\n",
       "      <td>0</td>\n",
       "    </tr>\n",
       "    <tr>\n",
       "      <th>1</th>\n",
       "      <td>1.790182</td>\n",
       "      <td>-0.719716</td>\n",
       "      <td>-0.934953</td>\n",
       "      <td>-1.524774</td>\n",
       "      <td>-1.750303</td>\n",
       "      <td>-1.114315</td>\n",
       "      <td>-0.524720</td>\n",
       "      <td>0.074822</td>\n",
       "      <td>-0.683796</td>\n",
       "      <td>0.754627</td>\n",
       "      <td>...</td>\n",
       "      <td>0.649941</td>\n",
       "      <td>-0.126141</td>\n",
       "      <td>0.351729</td>\n",
       "      <td>0.815570</td>\n",
       "      <td>-0.607782</td>\n",
       "      <td>0.558468</td>\n",
       "      <td>0.324807</td>\n",
       "      <td>-0.018550</td>\n",
       "      <td>0.014682</td>\n",
       "      <td>0</td>\n",
       "    </tr>\n",
       "    <tr>\n",
       "      <th>2</th>\n",
       "      <td>4.003221</td>\n",
       "      <td>1.844462</td>\n",
       "      <td>-0.363683</td>\n",
       "      <td>3.646606</td>\n",
       "      <td>-0.142021</td>\n",
       "      <td>-1.147875</td>\n",
       "      <td>1.527761</td>\n",
       "      <td>-2.374879</td>\n",
       "      <td>0.143690</td>\n",
       "      <td>1.702431</td>\n",
       "      <td>...</td>\n",
       "      <td>-0.988019</td>\n",
       "      <td>-0.008335</td>\n",
       "      <td>0.509143</td>\n",
       "      <td>0.569467</td>\n",
       "      <td>-1.029417</td>\n",
       "      <td>0.043373</td>\n",
       "      <td>0.490761</td>\n",
       "      <td>-0.082013</td>\n",
       "      <td>1.262494</td>\n",
       "      <td>0</td>\n",
       "    </tr>\n",
       "    <tr>\n",
       "      <th>3</th>\n",
       "      <td>-1.589373</td>\n",
       "      <td>-0.940308</td>\n",
       "      <td>-0.950264</td>\n",
       "      <td>2.349731</td>\n",
       "      <td>2.028378</td>\n",
       "      <td>-0.906828</td>\n",
       "      <td>0.381105</td>\n",
       "      <td>0.510291</td>\n",
       "      <td>0.284107</td>\n",
       "      <td>-0.653091</td>\n",
       "      <td>...</td>\n",
       "      <td>1.952903</td>\n",
       "      <td>0.756213</td>\n",
       "      <td>0.570834</td>\n",
       "      <td>0.006733</td>\n",
       "      <td>0.513447</td>\n",
       "      <td>0.767953</td>\n",
       "      <td>0.598490</td>\n",
       "      <td>0.006606</td>\n",
       "      <td>-2.913691</td>\n",
       "      <td>0</td>\n",
       "    </tr>\n",
       "    <tr>\n",
       "      <th>4</th>\n",
       "      <td>-1.776618</td>\n",
       "      <td>1.183969</td>\n",
       "      <td>0.622416</td>\n",
       "      <td>-2.095611</td>\n",
       "      <td>-0.707098</td>\n",
       "      <td>-0.189961</td>\n",
       "      <td>1.100034</td>\n",
       "      <td>0.732194</td>\n",
       "      <td>0.558477</td>\n",
       "      <td>-0.127611</td>\n",
       "      <td>...</td>\n",
       "      <td>0.759345</td>\n",
       "      <td>-0.475294</td>\n",
       "      <td>-0.098003</td>\n",
       "      <td>0.054699</td>\n",
       "      <td>-0.867537</td>\n",
       "      <td>0.195961</td>\n",
       "      <td>-0.054291</td>\n",
       "      <td>-0.334544</td>\n",
       "      <td>0.969965</td>\n",
       "      <td>0</td>\n",
       "    </tr>\n",
       "  </tbody>\n",
       "</table>\n",
       "<p>5 rows × 27 columns</p>\n",
       "</div>"
      ],
      "text/plain": [
       "       PC-0      PC-1      PC-2      PC-3      PC-4      PC-5      PC-6  \\\n",
       "0 -2.429701  1.091011 -1.418257  0.861760  1.646166 -0.306587 -1.347873   \n",
       "1  1.790182 -0.719716 -0.934953 -1.524774 -1.750303 -1.114315 -0.524720   \n",
       "2  4.003221  1.844462 -0.363683  3.646606 -0.142021 -1.147875  1.527761   \n",
       "3 -1.589373 -0.940308 -0.950264  2.349731  2.028378 -0.906828  0.381105   \n",
       "4 -1.776618  1.183969  0.622416 -2.095611 -0.707098 -0.189961  1.100034   \n",
       "\n",
       "       PC-7      PC-8      PC-9  ...     PC-17     PC-18     PC-19     PC-20  \\\n",
       "0  0.752827 -0.245521  0.777171  ... -0.222843 -0.457519  0.337269 -0.318818   \n",
       "1  0.074822 -0.683796  0.754627  ...  0.649941 -0.126141  0.351729  0.815570   \n",
       "2 -2.374879  0.143690  1.702431  ... -0.988019 -0.008335  0.509143  0.569467   \n",
       "3  0.510291  0.284107 -0.653091  ...  1.952903  0.756213  0.570834  0.006733   \n",
       "4  0.732194  0.558477 -0.127611  ...  0.759345 -0.475294 -0.098003  0.054699   \n",
       "\n",
       "      PC-21     PC-22     PC-23     PC-24     PC-25  target  \n",
       "0 -0.257295  0.129479 -0.082151 -0.132516 -0.219709       0  \n",
       "1 -0.607782  0.558468  0.324807 -0.018550  0.014682       0  \n",
       "2 -1.029417  0.043373  0.490761 -0.082013  1.262494       0  \n",
       "3  0.513447  0.767953  0.598490  0.006606 -2.913691       0  \n",
       "4 -0.867537  0.195961 -0.054291 -0.334544  0.969965       0  \n",
       "\n",
       "[5 rows x 27 columns]"
      ]
     },
     "execution_count": 60,
     "metadata": {},
     "output_type": "execute_result"
    }
   ],
   "source": [
    "train_pca_df.head()"
   ]
  },
  {
   "cell_type": "markdown",
   "id": "50a050da",
   "metadata": {},
   "source": [
    "### Target"
   ]
  },
  {
   "cell_type": "code",
   "execution_count": 61,
   "id": "5f8df20d",
   "metadata": {},
   "outputs": [
    {
     "data": {
      "text/plain": [
       "12556    0\n",
       "35451    0\n",
       "30592    0\n",
       "17914    0\n",
       "3315     0\n",
       "Name: berlangganan_deposito, dtype: int32"
      ]
     },
     "execution_count": 61,
     "metadata": {},
     "output_type": "execute_result"
    }
   ],
   "source": [
    "y_train.head()"
   ]
  },
  {
   "cell_type": "markdown",
   "id": "9b38ef33",
   "metadata": {},
   "source": [
    "## Data Uji"
   ]
  },
  {
   "cell_type": "markdown",
   "id": "c6263b51",
   "metadata": {},
   "source": [
    "### Atribut"
   ]
  },
  {
   "cell_type": "code",
   "execution_count": 62,
   "id": "c9b4a55e",
   "metadata": {},
   "outputs": [
    {
     "data": {
      "text/html": [
       "<div>\n",
       "<style scoped>\n",
       "    .dataframe tbody tr th:only-of-type {\n",
       "        vertical-align: middle;\n",
       "    }\n",
       "\n",
       "    .dataframe tbody tr th {\n",
       "        vertical-align: top;\n",
       "    }\n",
       "\n",
       "    .dataframe thead th {\n",
       "        text-align: right;\n",
       "    }\n",
       "</style>\n",
       "<table border=\"1\" class=\"dataframe\">\n",
       "  <thead>\n",
       "    <tr style=\"text-align: right;\">\n",
       "      <th></th>\n",
       "      <th>PC-0</th>\n",
       "      <th>PC-1</th>\n",
       "      <th>PC-2</th>\n",
       "      <th>PC-3</th>\n",
       "      <th>PC-4</th>\n",
       "      <th>PC-5</th>\n",
       "      <th>PC-6</th>\n",
       "      <th>PC-7</th>\n",
       "      <th>PC-8</th>\n",
       "      <th>PC-9</th>\n",
       "      <th>...</th>\n",
       "      <th>PC-17</th>\n",
       "      <th>PC-18</th>\n",
       "      <th>PC-19</th>\n",
       "      <th>PC-20</th>\n",
       "      <th>PC-21</th>\n",
       "      <th>PC-22</th>\n",
       "      <th>PC-23</th>\n",
       "      <th>PC-24</th>\n",
       "      <th>PC-25</th>\n",
       "      <th>target</th>\n",
       "    </tr>\n",
       "  </thead>\n",
       "  <tbody>\n",
       "    <tr>\n",
       "      <th>0</th>\n",
       "      <td>4.001286</td>\n",
       "      <td>1.012374</td>\n",
       "      <td>-0.727793</td>\n",
       "      <td>0.099228</td>\n",
       "      <td>0.582941</td>\n",
       "      <td>1.300691</td>\n",
       "      <td>1.460564</td>\n",
       "      <td>-2.608468</td>\n",
       "      <td>0.853246</td>\n",
       "      <td>0.897977</td>\n",
       "      <td>...</td>\n",
       "      <td>0.060522</td>\n",
       "      <td>-0.731374</td>\n",
       "      <td>-0.334792</td>\n",
       "      <td>-1.031180</td>\n",
       "      <td>0.170064</td>\n",
       "      <td>-0.505059</td>\n",
       "      <td>-0.620072</td>\n",
       "      <td>0.279323</td>\n",
       "      <td>0.616590</td>\n",
       "      <td>0</td>\n",
       "    </tr>\n",
       "    <tr>\n",
       "      <th>1</th>\n",
       "      <td>-1.712762</td>\n",
       "      <td>0.626919</td>\n",
       "      <td>1.459010</td>\n",
       "      <td>-0.626604</td>\n",
       "      <td>-1.628232</td>\n",
       "      <td>-1.183071</td>\n",
       "      <td>-0.402783</td>\n",
       "      <td>-0.314366</td>\n",
       "      <td>0.197033</td>\n",
       "      <td>-0.475049</td>\n",
       "      <td>...</td>\n",
       "      <td>0.734912</td>\n",
       "      <td>-0.070810</td>\n",
       "      <td>0.346517</td>\n",
       "      <td>-0.155347</td>\n",
       "      <td>-0.034906</td>\n",
       "      <td>-0.063208</td>\n",
       "      <td>-0.212061</td>\n",
       "      <td>-0.219698</td>\n",
       "      <td>0.307692</td>\n",
       "      <td>0</td>\n",
       "    </tr>\n",
       "    <tr>\n",
       "      <th>2</th>\n",
       "      <td>3.776643</td>\n",
       "      <td>2.295552</td>\n",
       "      <td>-2.389843</td>\n",
       "      <td>0.384811</td>\n",
       "      <td>0.741285</td>\n",
       "      <td>0.495861</td>\n",
       "      <td>-1.638743</td>\n",
       "      <td>-1.136462</td>\n",
       "      <td>2.413419</td>\n",
       "      <td>1.991949</td>\n",
       "      <td>...</td>\n",
       "      <td>-0.308407</td>\n",
       "      <td>0.056838</td>\n",
       "      <td>-0.143008</td>\n",
       "      <td>-0.109169</td>\n",
       "      <td>-0.802897</td>\n",
       "      <td>0.473584</td>\n",
       "      <td>0.518038</td>\n",
       "      <td>-0.061053</td>\n",
       "      <td>0.230178</td>\n",
       "      <td>0</td>\n",
       "    </tr>\n",
       "    <tr>\n",
       "      <th>3</th>\n",
       "      <td>-2.708633</td>\n",
       "      <td>1.491565</td>\n",
       "      <td>0.999497</td>\n",
       "      <td>-1.955921</td>\n",
       "      <td>0.551227</td>\n",
       "      <td>-0.919946</td>\n",
       "      <td>1.146649</td>\n",
       "      <td>-0.844740</td>\n",
       "      <td>-0.980973</td>\n",
       "      <td>1.905492</td>\n",
       "      <td>...</td>\n",
       "      <td>0.369598</td>\n",
       "      <td>-0.301441</td>\n",
       "      <td>-0.288192</td>\n",
       "      <td>-0.000285</td>\n",
       "      <td>-0.435093</td>\n",
       "      <td>-0.086494</td>\n",
       "      <td>0.078597</td>\n",
       "      <td>-0.343131</td>\n",
       "      <td>0.569306</td>\n",
       "      <td>0</td>\n",
       "    </tr>\n",
       "    <tr>\n",
       "      <th>4</th>\n",
       "      <td>-1.330115</td>\n",
       "      <td>-1.203528</td>\n",
       "      <td>-0.824254</td>\n",
       "      <td>0.040506</td>\n",
       "      <td>2.083456</td>\n",
       "      <td>-0.599066</td>\n",
       "      <td>1.815881</td>\n",
       "      <td>0.535280</td>\n",
       "      <td>-0.107106</td>\n",
       "      <td>1.139349</td>\n",
       "      <td>...</td>\n",
       "      <td>2.338197</td>\n",
       "      <td>-0.273175</td>\n",
       "      <td>0.425017</td>\n",
       "      <td>0.176468</td>\n",
       "      <td>-0.049116</td>\n",
       "      <td>0.641610</td>\n",
       "      <td>-0.531546</td>\n",
       "      <td>-0.092695</td>\n",
       "      <td>-1.591394</td>\n",
       "      <td>0</td>\n",
       "    </tr>\n",
       "  </tbody>\n",
       "</table>\n",
       "<p>5 rows × 27 columns</p>\n",
       "</div>"
      ],
      "text/plain": [
       "       PC-0      PC-1      PC-2      PC-3      PC-4      PC-5      PC-6  \\\n",
       "0  4.001286  1.012374 -0.727793  0.099228  0.582941  1.300691  1.460564   \n",
       "1 -1.712762  0.626919  1.459010 -0.626604 -1.628232 -1.183071 -0.402783   \n",
       "2  3.776643  2.295552 -2.389843  0.384811  0.741285  0.495861 -1.638743   \n",
       "3 -2.708633  1.491565  0.999497 -1.955921  0.551227 -0.919946  1.146649   \n",
       "4 -1.330115 -1.203528 -0.824254  0.040506  2.083456 -0.599066  1.815881   \n",
       "\n",
       "       PC-7      PC-8      PC-9  ...     PC-17     PC-18     PC-19     PC-20  \\\n",
       "0 -2.608468  0.853246  0.897977  ...  0.060522 -0.731374 -0.334792 -1.031180   \n",
       "1 -0.314366  0.197033 -0.475049  ...  0.734912 -0.070810  0.346517 -0.155347   \n",
       "2 -1.136462  2.413419  1.991949  ... -0.308407  0.056838 -0.143008 -0.109169   \n",
       "3 -0.844740 -0.980973  1.905492  ...  0.369598 -0.301441 -0.288192 -0.000285   \n",
       "4  0.535280 -0.107106  1.139349  ...  2.338197 -0.273175  0.425017  0.176468   \n",
       "\n",
       "      PC-21     PC-22     PC-23     PC-24     PC-25  target  \n",
       "0  0.170064 -0.505059 -0.620072  0.279323  0.616590       0  \n",
       "1 -0.034906 -0.063208 -0.212061 -0.219698  0.307692       0  \n",
       "2 -0.802897  0.473584  0.518038 -0.061053  0.230178       0  \n",
       "3 -0.435093 -0.086494  0.078597 -0.343131  0.569306       0  \n",
       "4 -0.049116  0.641610 -0.531546 -0.092695 -1.591394       0  \n",
       "\n",
       "[5 rows x 27 columns]"
      ]
     },
     "execution_count": 62,
     "metadata": {},
     "output_type": "execute_result"
    }
   ],
   "source": [
    "test_pca_df.head()"
   ]
  },
  {
   "cell_type": "markdown",
   "id": "e9cb5c76",
   "metadata": {},
   "source": [
    "### Target"
   ]
  },
  {
   "cell_type": "code",
   "execution_count": 63,
   "id": "79964645",
   "metadata": {},
   "outputs": [
    {
     "data": {
      "text/plain": [
       "32884    0\n",
       "3169     0\n",
       "32206    0\n",
       "9403     0\n",
       "14020    0\n",
       "Name: berlangganan_deposito, dtype: int32"
      ]
     },
     "execution_count": 63,
     "metadata": {},
     "output_type": "execute_result"
    }
   ],
   "source": [
    "y_test.head()"
   ]
  },
  {
   "cell_type": "markdown",
   "id": "9f67a029",
   "metadata": {},
   "source": [
    "# Modelling\n",
    "***\n",
    "Model klasifikasi *machine learning* yang digunakan pada tugas ini yaitu: <br>\n",
    "1. Logistic Regression\n",
    "2. KNN\n",
    "3. SVM\n",
    "4. Decision Tree\n",
    "5. Random Forest\n",
    "6. Naive Bayes\n",
    "\n",
    "***\n",
    "**Recall** akan digunakan sebagai penilaian model karena pada permasalahan ini bertujuan untuk **meminimumkan *False Negative*** <br>\n",
    "Confusion matrix: <br>\n",
    "    &emsp;Predicted <br>\n",
    "    &emsp;&emsp;0(No)   1(yes) <br>\n",
    "0(No) <br>\n",
    "1(yes) <br> <br>\n",
    "\n",
    "**Alur** <br>\n",
    "1. Setiap model akan dilihat performanya dengan akurasi untuk pertama kali. Semua model yang digunakan akan menggunakan *default* parameter pada masing-masing model.\n",
    "2. Hasil akurasi setiap model akan dibandingkan dengan boxplot\n",
    "3. Setiap model akan dituning dengan memilih metric recall\n",
    "4. Model dengan rata-rata recall terbaik akan dipilih sebagai model terbaik.\n",
    "5. Model terbaik tersebut akan dituning kembali dengan menerapkan undersampling pada dataset karena dataset memiliki kelas yang unbalanced"
   ]
  },
  {
   "cell_type": "code",
   "execution_count": 64,
   "id": "3d2e1283",
   "metadata": {},
   "outputs": [],
   "source": [
    "# Inisialisasi fold dan scoring yang digunakan\n",
    "num_fold = 10\n",
    "scoring_accuracy ='accuracy'\n",
    "scoring_recall = 'recall'"
   ]
  },
  {
   "cell_type": "code",
   "execution_count": 65,
   "id": "c0140c5c",
   "metadata": {},
   "outputs": [],
   "source": [
    "# buat list dari seluruh model yang digunakan\n",
    "models = []\n",
    "\n",
    "# append model\n",
    "models.append(('Logistic Regression', LogisticRegression()))\n",
    "models.append(('K-Nearest Neighbor', KNeighborsClassifier()))\n",
    "models.append(('Support Vector Machine', SVC()))\n",
    "models.append(('Decision Tree', DecisionTreeClassifier()))\n",
    "models.append(('Random Forest', RandomForestClassifier()))\n",
    "models.append(('Naive Bayes', GaussianNB()))\n",
    "\n",
    "#k-fold cross validation initialization object\n",
    "kfold = KFold(n_splits=num_fold, random_state=42, shuffle=True)"
   ]
  },
  {
   "cell_type": "code",
   "execution_count": 66,
   "id": "387d9b93",
   "metadata": {},
   "outputs": [],
   "source": [
    "def perform_model(models,X_train,y_train,kfold, scoring='accuracy'):\n",
    "    \"\"\"\n",
    "        Deskripsi Function:\n",
    "        - Fungsi ini digunakan untuk melakukan model cross-validation dengan data latih yang ada. Setiap model\n",
    "        akan divalidasi dengan ukuran skor (scoring) yang telah ditetapkan, semisal (akurasi, recall, etc).\n",
    "        \n",
    "        Function parameters:\n",
    "        - models: list of tuples dari model yang ingin dituning (LogisticRegression, SVM, etc)\n",
    "        - X_train: dataframe atau np.array dari atribut data latih yang sudah dipreprocessing\n",
    "        - y_train: dataframe atau np.array dari target data latih yang sudah dipreprocessing\n",
    "        - kfold: objek hasil instansiasi kelas KFold \n",
    "        - scoring: metode untuk memngukur performa model (accuracy, recall, precision, etc)\n",
    "        \n",
    "        Function returns:\n",
    "        - cv_results: List dari hasil cross validation setiap model yang sudah dituning\n",
    "        - model_names: List dari nama setiap model (string)\n",
    "        - print_msg: List berupa pesan untuk menampilkan model dengan hasil performanya pada data validasi\n",
    "    \"\"\"\n",
    "    cv_results = [] #menampung hasil crossvalidation setiap model\n",
    "    model_names = [] #menampung nama model\n",
    "    print_msg = [] #menampung pesan yang akan ditampilkan\n",
    "    \n",
    "    \n",
    "    for model_name, model in models:\n",
    "        #cross validation result\n",
    "        cv_result = cross_val_score(model,X_train,y_train, cv=kfold,scoring=scoring)\n",
    "\n",
    "        #append into list\n",
    "        cv_results.append(cv_result)\n",
    "        model_names.append(model_name)\n",
    "\n",
    "        #print result\n",
    "        msg_result = \"{}: mean {} = {}  std {} = {}\".format(model_name,scoring,cv_result.mean(),scoring,cv_result.std())\n",
    "        print_msg.append(msg_result)\n",
    "    \n",
    "    return cv_results,model_names,print_msg"
   ]
  },
  {
   "cell_type": "markdown",
   "id": "57f88984",
   "metadata": {},
   "source": [
    "## Hitung mean dan std dari akurasi dari setiap model yang digunakan\n",
    "***\n",
    "Validasi yang digunakan adalah 10-fold cross-validation"
   ]
  },
  {
   "cell_type": "code",
   "execution_count": 67,
   "id": "85f2722d",
   "metadata": {},
   "outputs": [],
   "source": [
    "cv_results_accuracy, model_names, print_msg_accuracy = perform_model(\n",
    "    models=models,\n",
    "    X_train=X_train_pca,\n",
    "    y_train=y_train,\n",
    "    kfold=kfold,\n",
    "    scoring=scoring_accuracy\n",
    ")"
   ]
  },
  {
   "cell_type": "code",
   "execution_count": 68,
   "id": "66506347",
   "metadata": {},
   "outputs": [
    {
     "name": "stdout",
     "output_type": "stream",
     "text": [
      "Logistic Regression: mean accuracy = 0.9023975720789075  std accuracy = 0.005336941143460825\n",
      "K-Nearest Neighbor: mean accuracy = 0.8957814871016693  std accuracy = 0.0038152947204413415\n",
      "Support Vector Machine: mean accuracy = 0.90597875569044  std accuracy = 0.00412300035150026\n",
      "Decision Tree: mean accuracy = 0.8766919575113808  std accuracy = 0.0046624027206576425\n",
      "Random Forest: mean accuracy = 0.903247344461305  std accuracy = 0.005561078929794876\n",
      "Naive Bayes: mean accuracy = 0.8823975720789073  std accuracy = 0.005381711103261861\n"
     ]
    }
   ],
   "source": [
    "# cetak hasil rata-rata akurasi setiap model\n",
    "for msg in print_msg_accuracy:\n",
    "    print(msg)"
   ]
  },
  {
   "cell_type": "markdown",
   "id": "f97aa7ea",
   "metadata": {},
   "source": [
    "## Bandingkan hasil akurasi setiap model"
   ]
  },
  {
   "cell_type": "code",
   "execution_count": 69,
   "id": "bd2df055",
   "metadata": {},
   "outputs": [
    {
     "data": {
      "image/png": "[encoded data removed]",
      "text/plain": [
       "<Figure size 576x288 with 1 Axes>"
      ]
     },
     "metadata": {
      "needs_background": "light"
     },
     "output_type": "display_data"
    }
   ],
   "source": [
    "fig = plt.figure(figsize=(10,8))\n",
    "fig.suptitle('Hasil perbandingan akurasi setiap model klasifikasi')\n",
    "ax = fig.add_subplot(111)\n",
    "\n",
    "plt.boxplot(cv_results_accuracy)\n",
    "ax.set_xticklabels(model_names, rotation=90)\n",
    "fig.set_size_inches(8,4)\n",
    "plt.show()"
   ]
  },
  {
   "cell_type": "markdown",
   "id": "8f2d0e25",
   "metadata": {},
   "source": [
    "**ANALISIS** <br>\n",
    "1. Dari segi **akurasi** Logistic Regression, SVM, dan Random Forest tampil menjadi model terbaik dengan rata-rata akurasi ketiga model ini yang hampir sama. \n",
    "2. Decision Tree dan Naive Bayes memberikan performa akurasi paling rendah"
   ]
  },
  {
   "cell_type": "markdown",
   "id": "c7000577",
   "metadata": {},
   "source": [
    "## Melihat confusion matrix dari SVM\n",
    "***\n",
    "Ukuran performa yang digunakan pada permasalahan ini adalah **memaksimalkan recall**"
   ]
  },
  {
   "cell_type": "code",
   "execution_count": 70,
   "id": "0f9a83b9",
   "metadata": {},
   "outputs": [],
   "source": [
    "# inisialisasi model SVM dengan default parameter\n",
    "svm = SVC()\n",
    "\n",
    "# fit model into training data\n",
    "svm.fit(X_train_pca,y_train)\n",
    "\n",
    "# get y prediction\n",
    "y_pred = svm.predict(X_test_pca)"
   ]
  },
  {
   "cell_type": "code",
   "execution_count": 71,
   "id": "c483f9c9",
   "metadata": {},
   "outputs": [
    {
     "name": "stdout",
     "output_type": "stream",
     "text": [
      "SVM Recall score =  0.32192513368983955\n",
      "              precision    recall  f1-score   support\n",
      "\n",
      "           0       0.92      0.98      0.95      7303\n",
      "           1       0.65      0.32      0.43       935\n",
      "\n",
      "    accuracy                           0.90      8238\n",
      "   macro avg       0.78      0.65      0.69      8238\n",
      "weighted avg       0.89      0.90      0.89      8238\n",
      "\n",
      "[[7142  161]\n",
      " [ 634  301]]\n"
     ]
    }
   ],
   "source": [
    "# print results\n",
    "print(\"SVM Recall score = \", metrics.recall_score(y_test,y_pred))\n",
    "print(metrics.classification_report(y_test,y_pred))\n",
    "\n",
    "# confusion matrix\n",
    "print(metrics.confusion_matrix(y_test,y_pred))"
   ]
  },
  {
   "cell_type": "markdown",
   "id": "b90e8f2d",
   "metadata": {},
   "source": [
    "**ANALISIS HASIL CONFUSION MATRIX SVM** <br>\n",
    "Model SVM walaupun memberikan nilai rata-rata akurasi tertinggi, namun nyatanya masih belum maksimal dalam memberikan **recall** terbaik. Hal ini dibuktikan dengan nilai FN yang besar yaitu **629** dibandingkan TP yaitu **306**. <br> <br>\n",
    "**Penting!!** <br>\n",
    "Nilai FN dan TP mungkin bervariasi seiring kode program dijalankan dan komputer yang digunakan. Namun, saat dijalankan SVM muncul memberikan hasil seperti di atas"
   ]
  },
  {
   "cell_type": "markdown",
   "id": "aa48dfdb",
   "metadata": {},
   "source": [
    "## Model Tuning dengan memilih metriks evaluasi yang benar\n",
    "***\n",
    "Recall akan digunakan untuk mentuning model yang digunakan "
   ]
  },
  {
   "cell_type": "code",
   "execution_count": 72,
   "id": "7adfea83",
   "metadata": {},
   "outputs": [],
   "source": [
    "cv_results_recall, model_names, print_msg_recall = perform_model(\n",
    "    models=models,\n",
    "    X_train=X_train_pca,\n",
    "    y_train=y_train,\n",
    "    kfold=kfold,\n",
    "    scoring=scoring_recall\n",
    ")"
   ]
  },
  {
   "cell_type": "code",
   "execution_count": 73,
   "id": "6de12f8c",
   "metadata": {},
   "outputs": [
    {
     "name": "stdout",
     "output_type": "stream",
     "text": [
      "Logistic Regression: mean recall = 0.3192603331072764  std recall = 0.03079447423581431\n",
      "K-Nearest Neighbor: mean recall = 0.31758463405713916  std recall = 0.028617696805422692\n",
      "Support Vector Machine: mean recall = 0.32436271613197654  std recall = 0.018865836653459214\n",
      "Decision Tree: mean recall = 0.45715525652911115  std recall = 0.029950265204466586\n",
      "Random Forest: mean recall = 0.37549497336108606  std recall = 0.03566316332496404\n",
      "Naive Bayes: mean recall = 0.413353981342763  std recall = 0.033393649474232484\n"
     ]
    }
   ],
   "source": [
    "# cetak hasil rata-rata recall setiap model\n",
    "for msg in print_msg_recall:\n",
    "    print(msg)"
   ]
  },
  {
   "cell_type": "markdown",
   "id": "96e4c936",
   "metadata": {},
   "source": [
    "### Bandingkan hasil recall setiap model"
   ]
  },
  {
   "cell_type": "code",
   "execution_count": 74,
   "id": "7d116c13",
   "metadata": {},
   "outputs": [
    {
     "data": {
      "image/png": "[encoded data removed]",
      "text/plain": [
       "<Figure size 576x288 with 1 Axes>"
      ]
     },
     "metadata": {
      "needs_background": "light"
     },
     "output_type": "display_data"
    }
   ],
   "source": [
    "fig = plt.figure(figsize=(10,8))\n",
    "fig.suptitle('Hasil perbandingan recall setiap model klasifikasi')\n",
    "ax = fig.add_subplot(111)\n",
    "\n",
    "plt.boxplot(cv_results_recall)\n",
    "ax.set_xticklabels(model_names, rotation=90)\n",
    "fig.set_size_inches(8,4)\n",
    "plt.show()"
   ]
  },
  {
   "cell_type": "markdown",
   "id": "978494ba",
   "metadata": {},
   "source": [
    "**ANALISIS** <br>\n",
    "1. Decision Tree dan Naive Bayes tampil dengan rata-rata recall terbaik dibandingkan model-model lainnya.\n",
    "2. Akurasi pada dataset yang imbalanced tidak bisa menjadi penentu untuk memilih model. Bisa dilihat bahwa SVM tidak mampu memberikan performa recall yang terbaik, padahal sebelumnya model ini memberikan akurasi tertinggi."
   ]
  },
  {
   "cell_type": "markdown",
   "id": "f433c183",
   "metadata": {},
   "source": [
    "### Evaluasi model dengan recall terbaik menggunakan data testing"
   ]
  },
  {
   "cell_type": "code",
   "execution_count": 75,
   "id": "666d8d99",
   "metadata": {},
   "outputs": [],
   "source": [
    "# inisialisasi model Decision Tree\n",
    "dt = DecisionTreeClassifier()\n",
    "\n",
    "# fit model into training data\n",
    "dt.fit(X_train_pca,y_train)\n",
    "\n",
    "# get y prediction\n",
    "y_pred_dt = dt.predict(X_test_pca)"
   ]
  },
  {
   "cell_type": "code",
   "execution_count": 76,
   "id": "4ba688ff",
   "metadata": {},
   "outputs": [
    {
     "name": "stdout",
     "output_type": "stream",
     "text": [
      "Accuracy score Decision Tree =  0.8782471473658655\n",
      "              precision    recall  f1-score   support\n",
      "\n",
      "           0       0.93      0.93      0.93      7303\n",
      "           1       0.47      0.49      0.48       935\n",
      "\n",
      "    accuracy                           0.88      8238\n",
      "   macro avg       0.70      0.71      0.70      8238\n",
      "weighted avg       0.88      0.88      0.88      8238\n",
      "\n",
      "[[6778  525]\n",
      " [ 478  457]]\n"
     ]
    }
   ],
   "source": [
    "# print score\n",
    "print(\"Accuracy score Decision Tree = \", metrics.accuracy_score(y_test,y_pred_dt))\n",
    "print(metrics.classification_report(y_test,y_pred_dt))\n",
    "\n",
    "# confusion matrix\n",
    "print(metrics.confusion_matrix(y_test,y_pred_dt))"
   ]
  },
  {
   "cell_type": "markdown",
   "id": "192e4f57",
   "metadata": {},
   "source": [
    "Decision Tree masih memberikan **FN (511)** dan **FP (521)** yang terbilang masih tinggi. <br>\n",
    "\n",
    "**Penting!!** <br>\n",
    "Nilai FN dan FP mungkin bervariasi seiring kode program dijalankan dan komputer yang digunakan. Namun, saat dijalankan Decision Tree (DT) muncul memberikan hasil seperti di atas"
   ]
  },
  {
   "cell_type": "markdown",
   "id": "96de3633",
   "metadata": {},
   "source": [
    "## Model Tuning dengan balancing data sampel - undersampling\n",
    "***\n",
    "Sampel dataset memiliki ketidakseimbangan pada label kelas yang cukup besar. Hal ini bisa menyebabkan bias pada kelas mayoritas; menyebabkan performa model klasifikasi menjadi menurun; dan **meningkatkan terjadinya FN** <br>\n",
    "Model yang ingin dikembangkan adalah sebisa mungkin meminimumkan adanya FN, sehingga perlu dilakukan penyeimbangan pada label kelas. Salah satu caranya dengan *undersampling*"
   ]
  },
  {
   "cell_type": "markdown",
   "id": "e65e76a5",
   "metadata": {},
   "source": [
    "### Undersampling dataset pada kelas yang dominan menjadi sama dengan kelas minoritas"
   ]
  },
  {
   "cell_type": "code",
   "execution_count": 77,
   "id": "4fa7d9fe",
   "metadata": {},
   "outputs": [],
   "source": [
    "# menyatukan atribut dan target pada data latih\n",
    "df = pd.concat([pd.DataFrame(data=X_train_pca),y_train.reset_index()['berlangganan_deposito']],axis=1)"
   ]
  },
  {
   "cell_type": "code",
   "execution_count": 78,
   "id": "11a2101b",
   "metadata": {},
   "outputs": [
    {
     "data": {
      "text/html": [
       "<div>\n",
       "<style scoped>\n",
       "    .dataframe tbody tr th:only-of-type {\n",
       "        vertical-align: middle;\n",
       "    }\n",
       "\n",
       "    .dataframe tbody tr th {\n",
       "        vertical-align: top;\n",
       "    }\n",
       "\n",
       "    .dataframe thead th {\n",
       "        text-align: right;\n",
       "    }\n",
       "</style>\n",
       "<table border=\"1\" class=\"dataframe\">\n",
       "  <thead>\n",
       "    <tr style=\"text-align: right;\">\n",
       "      <th></th>\n",
       "      <th>0</th>\n",
       "      <th>1</th>\n",
       "      <th>2</th>\n",
       "      <th>3</th>\n",
       "      <th>4</th>\n",
       "      <th>5</th>\n",
       "      <th>6</th>\n",
       "      <th>7</th>\n",
       "      <th>8</th>\n",
       "      <th>9</th>\n",
       "      <th>...</th>\n",
       "      <th>17</th>\n",
       "      <th>18</th>\n",
       "      <th>19</th>\n",
       "      <th>20</th>\n",
       "      <th>21</th>\n",
       "      <th>22</th>\n",
       "      <th>23</th>\n",
       "      <th>24</th>\n",
       "      <th>25</th>\n",
       "      <th>berlangganan_deposito</th>\n",
       "    </tr>\n",
       "  </thead>\n",
       "  <tbody>\n",
       "    <tr>\n",
       "      <th>0</th>\n",
       "      <td>-2.429701</td>\n",
       "      <td>1.091011</td>\n",
       "      <td>-1.418257</td>\n",
       "      <td>0.861760</td>\n",
       "      <td>1.646166</td>\n",
       "      <td>-0.306587</td>\n",
       "      <td>-1.347873</td>\n",
       "      <td>0.752827</td>\n",
       "      <td>-0.245521</td>\n",
       "      <td>0.777171</td>\n",
       "      <td>...</td>\n",
       "      <td>-0.222843</td>\n",
       "      <td>-0.457519</td>\n",
       "      <td>0.337269</td>\n",
       "      <td>-0.318818</td>\n",
       "      <td>-0.257295</td>\n",
       "      <td>0.129479</td>\n",
       "      <td>-0.082151</td>\n",
       "      <td>-0.132516</td>\n",
       "      <td>-0.219709</td>\n",
       "      <td>0</td>\n",
       "    </tr>\n",
       "    <tr>\n",
       "      <th>1</th>\n",
       "      <td>1.790182</td>\n",
       "      <td>-0.719716</td>\n",
       "      <td>-0.934953</td>\n",
       "      <td>-1.524774</td>\n",
       "      <td>-1.750303</td>\n",
       "      <td>-1.114315</td>\n",
       "      <td>-0.524720</td>\n",
       "      <td>0.074822</td>\n",
       "      <td>-0.683796</td>\n",
       "      <td>0.754627</td>\n",
       "      <td>...</td>\n",
       "      <td>0.649941</td>\n",
       "      <td>-0.126141</td>\n",
       "      <td>0.351729</td>\n",
       "      <td>0.815570</td>\n",
       "      <td>-0.607782</td>\n",
       "      <td>0.558468</td>\n",
       "      <td>0.324807</td>\n",
       "      <td>-0.018550</td>\n",
       "      <td>0.014682</td>\n",
       "      <td>0</td>\n",
       "    </tr>\n",
       "    <tr>\n",
       "      <th>2</th>\n",
       "      <td>4.003221</td>\n",
       "      <td>1.844462</td>\n",
       "      <td>-0.363683</td>\n",
       "      <td>3.646606</td>\n",
       "      <td>-0.142021</td>\n",
       "      <td>-1.147875</td>\n",
       "      <td>1.527761</td>\n",
       "      <td>-2.374879</td>\n",
       "      <td>0.143690</td>\n",
       "      <td>1.702431</td>\n",
       "      <td>...</td>\n",
       "      <td>-0.988019</td>\n",
       "      <td>-0.008335</td>\n",
       "      <td>0.509143</td>\n",
       "      <td>0.569467</td>\n",
       "      <td>-1.029417</td>\n",
       "      <td>0.043373</td>\n",
       "      <td>0.490761</td>\n",
       "      <td>-0.082013</td>\n",
       "      <td>1.262494</td>\n",
       "      <td>0</td>\n",
       "    </tr>\n",
       "    <tr>\n",
       "      <th>3</th>\n",
       "      <td>-1.589373</td>\n",
       "      <td>-0.940308</td>\n",
       "      <td>-0.950264</td>\n",
       "      <td>2.349731</td>\n",
       "      <td>2.028378</td>\n",
       "      <td>-0.906828</td>\n",
       "      <td>0.381105</td>\n",
       "      <td>0.510291</td>\n",
       "      <td>0.284107</td>\n",
       "      <td>-0.653091</td>\n",
       "      <td>...</td>\n",
       "      <td>1.952903</td>\n",
       "      <td>0.756213</td>\n",
       "      <td>0.570834</td>\n",
       "      <td>0.006733</td>\n",
       "      <td>0.513447</td>\n",
       "      <td>0.767953</td>\n",
       "      <td>0.598490</td>\n",
       "      <td>0.006606</td>\n",
       "      <td>-2.913691</td>\n",
       "      <td>0</td>\n",
       "    </tr>\n",
       "    <tr>\n",
       "      <th>4</th>\n",
       "      <td>-1.776618</td>\n",
       "      <td>1.183969</td>\n",
       "      <td>0.622416</td>\n",
       "      <td>-2.095611</td>\n",
       "      <td>-0.707098</td>\n",
       "      <td>-0.189961</td>\n",
       "      <td>1.100034</td>\n",
       "      <td>0.732194</td>\n",
       "      <td>0.558477</td>\n",
       "      <td>-0.127611</td>\n",
       "      <td>...</td>\n",
       "      <td>0.759345</td>\n",
       "      <td>-0.475294</td>\n",
       "      <td>-0.098003</td>\n",
       "      <td>0.054699</td>\n",
       "      <td>-0.867537</td>\n",
       "      <td>0.195961</td>\n",
       "      <td>-0.054291</td>\n",
       "      <td>-0.334544</td>\n",
       "      <td>0.969965</td>\n",
       "      <td>0</td>\n",
       "    </tr>\n",
       "    <tr>\n",
       "      <th>...</th>\n",
       "      <td>...</td>\n",
       "      <td>...</td>\n",
       "      <td>...</td>\n",
       "      <td>...</td>\n",
       "      <td>...</td>\n",
       "      <td>...</td>\n",
       "      <td>...</td>\n",
       "      <td>...</td>\n",
       "      <td>...</td>\n",
       "      <td>...</td>\n",
       "      <td>...</td>\n",
       "      <td>...</td>\n",
       "      <td>...</td>\n",
       "      <td>...</td>\n",
       "      <td>...</td>\n",
       "      <td>...</td>\n",
       "      <td>...</td>\n",
       "      <td>...</td>\n",
       "      <td>...</td>\n",
       "      <td>...</td>\n",
       "      <td>...</td>\n",
       "    </tr>\n",
       "    <tr>\n",
       "      <th>32945</th>\n",
       "      <td>-1.712099</td>\n",
       "      <td>1.537737</td>\n",
       "      <td>1.624981</td>\n",
       "      <td>2.612029</td>\n",
       "      <td>-1.681280</td>\n",
       "      <td>1.208521</td>\n",
       "      <td>1.673609</td>\n",
       "      <td>-0.637714</td>\n",
       "      <td>-0.550619</td>\n",
       "      <td>-1.530220</td>\n",
       "      <td>...</td>\n",
       "      <td>-0.715152</td>\n",
       "      <td>-0.609151</td>\n",
       "      <td>-0.505950</td>\n",
       "      <td>-0.025426</td>\n",
       "      <td>-0.394143</td>\n",
       "      <td>-0.472432</td>\n",
       "      <td>0.166091</td>\n",
       "      <td>-0.265718</td>\n",
       "      <td>1.266217</td>\n",
       "      <td>0</td>\n",
       "    </tr>\n",
       "    <tr>\n",
       "      <th>32946</th>\n",
       "      <td>-2.557455</td>\n",
       "      <td>0.826017</td>\n",
       "      <td>1.508027</td>\n",
       "      <td>-0.994492</td>\n",
       "      <td>-0.126109</td>\n",
       "      <td>-1.462139</td>\n",
       "      <td>-1.664241</td>\n",
       "      <td>-1.772071</td>\n",
       "      <td>-1.674204</td>\n",
       "      <td>-1.651258</td>\n",
       "      <td>...</td>\n",
       "      <td>-1.658041</td>\n",
       "      <td>0.474970</td>\n",
       "      <td>-0.234489</td>\n",
       "      <td>-1.366909</td>\n",
       "      <td>-0.919331</td>\n",
       "      <td>0.422402</td>\n",
       "      <td>0.314565</td>\n",
       "      <td>0.176969</td>\n",
       "      <td>0.374283</td>\n",
       "      <td>0</td>\n",
       "    </tr>\n",
       "    <tr>\n",
       "      <th>32947</th>\n",
       "      <td>6.349290</td>\n",
       "      <td>1.232624</td>\n",
       "      <td>4.566554</td>\n",
       "      <td>-0.248380</td>\n",
       "      <td>0.619086</td>\n",
       "      <td>-0.196221</td>\n",
       "      <td>1.583085</td>\n",
       "      <td>3.822479</td>\n",
       "      <td>-0.219712</td>\n",
       "      <td>-0.326345</td>\n",
       "      <td>...</td>\n",
       "      <td>0.386389</td>\n",
       "      <td>-1.885789</td>\n",
       "      <td>0.582041</td>\n",
       "      <td>0.908048</td>\n",
       "      <td>-3.649316</td>\n",
       "      <td>-1.086954</td>\n",
       "      <td>-1.281038</td>\n",
       "      <td>2.290371</td>\n",
       "      <td>-3.388011</td>\n",
       "      <td>1</td>\n",
       "    </tr>\n",
       "    <tr>\n",
       "      <th>32948</th>\n",
       "      <td>-1.785278</td>\n",
       "      <td>0.854852</td>\n",
       "      <td>1.306620</td>\n",
       "      <td>-0.679647</td>\n",
       "      <td>-1.743124</td>\n",
       "      <td>-0.918407</td>\n",
       "      <td>-1.174055</td>\n",
       "      <td>-0.748738</td>\n",
       "      <td>0.888705</td>\n",
       "      <td>-2.230221</td>\n",
       "      <td>...</td>\n",
       "      <td>-1.276612</td>\n",
       "      <td>0.812409</td>\n",
       "      <td>0.112104</td>\n",
       "      <td>-1.481397</td>\n",
       "      <td>-0.311325</td>\n",
       "      <td>0.334224</td>\n",
       "      <td>0.164687</td>\n",
       "      <td>0.627874</td>\n",
       "      <td>0.010414</td>\n",
       "      <td>0</td>\n",
       "    </tr>\n",
       "    <tr>\n",
       "      <th>32949</th>\n",
       "      <td>-1.006413</td>\n",
       "      <td>-2.367930</td>\n",
       "      <td>-0.028913</td>\n",
       "      <td>-1.613458</td>\n",
       "      <td>1.446149</td>\n",
       "      <td>-1.420045</td>\n",
       "      <td>-0.892147</td>\n",
       "      <td>0.506792</td>\n",
       "      <td>-0.703328</td>\n",
       "      <td>0.672564</td>\n",
       "      <td>...</td>\n",
       "      <td>0.368343</td>\n",
       "      <td>-1.202260</td>\n",
       "      <td>0.127806</td>\n",
       "      <td>0.015615</td>\n",
       "      <td>-0.163663</td>\n",
       "      <td>0.089557</td>\n",
       "      <td>-0.824413</td>\n",
       "      <td>-0.087442</td>\n",
       "      <td>0.352395</td>\n",
       "      <td>0</td>\n",
       "    </tr>\n",
       "  </tbody>\n",
       "</table>\n",
       "<p>32950 rows × 27 columns</p>\n",
       "</div>"
      ],
      "text/plain": [
       "              0         1         2         3         4         5         6  \\\n",
       "0     -2.429701  1.091011 -1.418257  0.861760  1.646166 -0.306587 -1.347873   \n",
       "1      1.790182 -0.719716 -0.934953 -1.524774 -1.750303 -1.114315 -0.524720   \n",
       "2      4.003221  1.844462 -0.363683  3.646606 -0.142021 -1.147875  1.527761   \n",
       "3     -1.589373 -0.940308 -0.950264  2.349731  2.028378 -0.906828  0.381105   \n",
       "4     -1.776618  1.183969  0.622416 -2.095611 -0.707098 -0.189961  1.100034   \n",
       "...         ...       ...       ...       ...       ...       ...       ...   \n",
       "32945 -1.712099  1.537737  1.624981  2.612029 -1.681280  1.208521  1.673609   \n",
       "32946 -2.557455  0.826017  1.508027 -0.994492 -0.126109 -1.462139 -1.664241   \n",
       "32947  6.349290  1.232624  4.566554 -0.248380  0.619086 -0.196221  1.583085   \n",
       "32948 -1.785278  0.854852  1.306620 -0.679647 -1.743124 -0.918407 -1.174055   \n",
       "32949 -1.006413 -2.367930 -0.028913 -1.613458  1.446149 -1.420045 -0.892147   \n",
       "\n",
       "              7         8         9  ...        17        18        19  \\\n",
       "0      0.752827 -0.245521  0.777171  ... -0.222843 -0.457519  0.337269   \n",
       "1      0.074822 -0.683796  0.754627  ...  0.649941 -0.126141  0.351729   \n",
       "2     -2.374879  0.143690  1.702431  ... -0.988019 -0.008335  0.509143   \n",
       "3      0.510291  0.284107 -0.653091  ...  1.952903  0.756213  0.570834   \n",
       "4      0.732194  0.558477 -0.127611  ...  0.759345 -0.475294 -0.098003   \n",
       "...         ...       ...       ...  ...       ...       ...       ...   \n",
       "32945 -0.637714 -0.550619 -1.530220  ... -0.715152 -0.609151 -0.505950   \n",
       "32946 -1.772071 -1.674204 -1.651258  ... -1.658041  0.474970 -0.234489   \n",
       "32947  3.822479 -0.219712 -0.326345  ...  0.386389 -1.885789  0.582041   \n",
       "32948 -0.748738  0.888705 -2.230221  ... -1.276612  0.812409  0.112104   \n",
       "32949  0.506792 -0.703328  0.672564  ...  0.368343 -1.202260  0.127806   \n",
       "\n",
       "             20        21        22        23        24        25  \\\n",
       "0     -0.318818 -0.257295  0.129479 -0.082151 -0.132516 -0.219709   \n",
       "1      0.815570 -0.607782  0.558468  0.324807 -0.018550  0.014682   \n",
       "2      0.569467 -1.029417  0.043373  0.490761 -0.082013  1.262494   \n",
       "3      0.006733  0.513447  0.767953  0.598490  0.006606 -2.913691   \n",
       "4      0.054699 -0.867537  0.195961 -0.054291 -0.334544  0.969965   \n",
       "...         ...       ...       ...       ...       ...       ...   \n",
       "32945 -0.025426 -0.394143 -0.472432  0.166091 -0.265718  1.266217   \n",
       "32946 -1.366909 -0.919331  0.422402  0.314565  0.176969  0.374283   \n",
       "32947  0.908048 -3.649316 -1.086954 -1.281038  2.290371 -3.388011   \n",
       "32948 -1.481397 -0.311325  0.334224  0.164687  0.627874  0.010414   \n",
       "32949  0.015615 -0.163663  0.089557 -0.824413 -0.087442  0.352395   \n",
       "\n",
       "       berlangganan_deposito  \n",
       "0                          0  \n",
       "1                          0  \n",
       "2                          0  \n",
       "3                          0  \n",
       "4                          0  \n",
       "...                      ...  \n",
       "32945                      0  \n",
       "32946                      0  \n",
       "32947                      1  \n",
       "32948                      0  \n",
       "32949                      0  \n",
       "\n",
       "[32950 rows x 27 columns]"
      ]
     },
     "execution_count": 78,
     "metadata": {},
     "output_type": "execute_result"
    }
   ],
   "source": [
    "df"
   ]
  },
  {
   "cell_type": "code",
   "execution_count": 79,
   "id": "24e4dcc8",
   "metadata": {},
   "outputs": [
    {
     "data": {
      "text/plain": [
       "0    29245\n",
       "1     3705\n",
       "Name: berlangganan_deposito, dtype: int64"
      ]
     },
     "execution_count": 79,
     "metadata": {},
     "output_type": "execute_result"
    }
   ],
   "source": [
    "# melihat banyak setiap nilai pada label kelas\n",
    "df['berlangganan_deposito'].value_counts()"
   ]
  },
  {
   "cell_type": "code",
   "execution_count": 80,
   "id": "61d6fbf9",
   "metadata": {},
   "outputs": [],
   "source": [
    "# under-sampling kelas 'No' menjadi 3705\n",
    "no_df = df[df['berlangganan_deposito']==0][:df['berlangganan_deposito'].value_counts()[1]]\n",
    "yes_df = df[df['berlangganan_deposito']==1]"
   ]
  },
  {
   "cell_type": "markdown",
   "id": "37b00e6f",
   "metadata": {},
   "source": [
    "### Menggabungkan dataset yang setiap kelasnya sudah balanced menjadi 1"
   ]
  },
  {
   "cell_type": "code",
   "execution_count": 81,
   "id": "fe496ea3",
   "metadata": {},
   "outputs": [],
   "source": [
    "normal_distributed_df = pd.concat([yes_df,no_df])\n",
    "\n",
    "# shuffle row pada data yang sudah digabung agar acak\n",
    "bank_df_normal_distributed = normal_distributed_df.sample(frac=1, random_state=42)"
   ]
  },
  {
   "cell_type": "code",
   "execution_count": 82,
   "id": "c5423871",
   "metadata": {},
   "outputs": [
    {
     "data": {
      "text/html": [
       "<div>\n",
       "<style scoped>\n",
       "    .dataframe tbody tr th:only-of-type {\n",
       "        vertical-align: middle;\n",
       "    }\n",
       "\n",
       "    .dataframe tbody tr th {\n",
       "        vertical-align: top;\n",
       "    }\n",
       "\n",
       "    .dataframe thead th {\n",
       "        text-align: right;\n",
       "    }\n",
       "</style>\n",
       "<table border=\"1\" class=\"dataframe\">\n",
       "  <thead>\n",
       "    <tr style=\"text-align: right;\">\n",
       "      <th></th>\n",
       "      <th>0</th>\n",
       "      <th>1</th>\n",
       "      <th>2</th>\n",
       "      <th>3</th>\n",
       "      <th>4</th>\n",
       "      <th>5</th>\n",
       "      <th>6</th>\n",
       "      <th>7</th>\n",
       "      <th>8</th>\n",
       "      <th>9</th>\n",
       "      <th>...</th>\n",
       "      <th>17</th>\n",
       "      <th>18</th>\n",
       "      <th>19</th>\n",
       "      <th>20</th>\n",
       "      <th>21</th>\n",
       "      <th>22</th>\n",
       "      <th>23</th>\n",
       "      <th>24</th>\n",
       "      <th>25</th>\n",
       "      <th>berlangganan_deposito</th>\n",
       "    </tr>\n",
       "  </thead>\n",
       "  <tbody>\n",
       "    <tr>\n",
       "      <th>1481</th>\n",
       "      <td>-0.737356</td>\n",
       "      <td>-3.155627</td>\n",
       "      <td>1.292309</td>\n",
       "      <td>-0.213216</td>\n",
       "      <td>-0.430016</td>\n",
       "      <td>1.566850</td>\n",
       "      <td>-1.036160</td>\n",
       "      <td>0.386538</td>\n",
       "      <td>0.422618</td>\n",
       "      <td>0.387788</td>\n",
       "      <td>...</td>\n",
       "      <td>-0.443597</td>\n",
       "      <td>0.457406</td>\n",
       "      <td>-0.212180</td>\n",
       "      <td>-0.194725</td>\n",
       "      <td>-0.100668</td>\n",
       "      <td>0.148755</td>\n",
       "      <td>0.273875</td>\n",
       "      <td>0.010844</td>\n",
       "      <td>-0.033131</td>\n",
       "      <td>0</td>\n",
       "    </tr>\n",
       "    <tr>\n",
       "      <th>13735</th>\n",
       "      <td>-1.228003</td>\n",
       "      <td>-1.349565</td>\n",
       "      <td>-0.471807</td>\n",
       "      <td>-0.436455</td>\n",
       "      <td>2.143153</td>\n",
       "      <td>-1.297962</td>\n",
       "      <td>1.716863</td>\n",
       "      <td>1.140335</td>\n",
       "      <td>0.090751</td>\n",
       "      <td>-1.496132</td>\n",
       "      <td>...</td>\n",
       "      <td>0.809961</td>\n",
       "      <td>-1.836809</td>\n",
       "      <td>-2.531432</td>\n",
       "      <td>-1.286196</td>\n",
       "      <td>0.084784</td>\n",
       "      <td>0.179826</td>\n",
       "      <td>-1.502183</td>\n",
       "      <td>-0.060718</td>\n",
       "      <td>2.477980</td>\n",
       "      <td>1</td>\n",
       "    </tr>\n",
       "    <tr>\n",
       "      <th>21627</th>\n",
       "      <td>1.942195</td>\n",
       "      <td>-0.777246</td>\n",
       "      <td>-1.082538</td>\n",
       "      <td>-1.069354</td>\n",
       "      <td>-1.666262</td>\n",
       "      <td>-1.082759</td>\n",
       "      <td>-0.516044</td>\n",
       "      <td>0.484545</td>\n",
       "      <td>-0.664278</td>\n",
       "      <td>-1.318395</td>\n",
       "      <td>...</td>\n",
       "      <td>1.447733</td>\n",
       "      <td>-0.557581</td>\n",
       "      <td>-0.802788</td>\n",
       "      <td>-0.703826</td>\n",
       "      <td>0.314932</td>\n",
       "      <td>0.019534</td>\n",
       "      <td>-0.880615</td>\n",
       "      <td>-0.254389</td>\n",
       "      <td>0.877376</td>\n",
       "      <td>1</td>\n",
       "    </tr>\n",
       "    <tr>\n",
       "      <th>2286</th>\n",
       "      <td>1.568447</td>\n",
       "      <td>0.703026</td>\n",
       "      <td>-2.587759</td>\n",
       "      <td>0.340263</td>\n",
       "      <td>-0.808328</td>\n",
       "      <td>-0.035192</td>\n",
       "      <td>1.001829</td>\n",
       "      <td>0.824378</td>\n",
       "      <td>-0.036817</td>\n",
       "      <td>-0.694721</td>\n",
       "      <td>...</td>\n",
       "      <td>0.324324</td>\n",
       "      <td>0.321482</td>\n",
       "      <td>0.058037</td>\n",
       "      <td>0.270297</td>\n",
       "      <td>-0.733968</td>\n",
       "      <td>0.485784</td>\n",
       "      <td>0.384335</td>\n",
       "      <td>-0.237134</td>\n",
       "      <td>0.436575</td>\n",
       "      <td>0</td>\n",
       "    </tr>\n",
       "    <tr>\n",
       "      <th>22685</th>\n",
       "      <td>5.709963</td>\n",
       "      <td>0.026003</td>\n",
       "      <td>3.906271</td>\n",
       "      <td>-0.382684</td>\n",
       "      <td>0.752235</td>\n",
       "      <td>-1.014910</td>\n",
       "      <td>-0.786751</td>\n",
       "      <td>1.362027</td>\n",
       "      <td>0.874865</td>\n",
       "      <td>-1.720058</td>\n",
       "      <td>...</td>\n",
       "      <td>2.234592</td>\n",
       "      <td>0.408328</td>\n",
       "      <td>0.124063</td>\n",
       "      <td>0.359341</td>\n",
       "      <td>-0.031578</td>\n",
       "      <td>-0.687586</td>\n",
       "      <td>0.142068</td>\n",
       "      <td>-0.615415</td>\n",
       "      <td>-0.753856</td>\n",
       "      <td>1</td>\n",
       "    </tr>\n",
       "  </tbody>\n",
       "</table>\n",
       "<p>5 rows × 27 columns</p>\n",
       "</div>"
      ],
      "text/plain": [
       "              0         1         2         3         4         5         6  \\\n",
       "1481  -0.737356 -3.155627  1.292309 -0.213216 -0.430016  1.566850 -1.036160   \n",
       "13735 -1.228003 -1.349565 -0.471807 -0.436455  2.143153 -1.297962  1.716863   \n",
       "21627  1.942195 -0.777246 -1.082538 -1.069354 -1.666262 -1.082759 -0.516044   \n",
       "2286   1.568447  0.703026 -2.587759  0.340263 -0.808328 -0.035192  1.001829   \n",
       "22685  5.709963  0.026003  3.906271 -0.382684  0.752235 -1.014910 -0.786751   \n",
       "\n",
       "              7         8         9  ...        17        18        19  \\\n",
       "1481   0.386538  0.422618  0.387788  ... -0.443597  0.457406 -0.212180   \n",
       "13735  1.140335  0.090751 -1.496132  ...  0.809961 -1.836809 -2.531432   \n",
       "21627  0.484545 -0.664278 -1.318395  ...  1.447733 -0.557581 -0.802788   \n",
       "2286   0.824378 -0.036817 -0.694721  ...  0.324324  0.321482  0.058037   \n",
       "22685  1.362027  0.874865 -1.720058  ...  2.234592  0.408328  0.124063   \n",
       "\n",
       "             20        21        22        23        24        25  \\\n",
       "1481  -0.194725 -0.100668  0.148755  0.273875  0.010844 -0.033131   \n",
       "13735 -1.286196  0.084784  0.179826 -1.502183 -0.060718  2.477980   \n",
       "21627 -0.703826  0.314932  0.019534 -0.880615 -0.254389  0.877376   \n",
       "2286   0.270297 -0.733968  0.485784  0.384335 -0.237134  0.436575   \n",
       "22685  0.359341 -0.031578 -0.687586  0.142068 -0.615415 -0.753856   \n",
       "\n",
       "       berlangganan_deposito  \n",
       "1481                       0  \n",
       "13735                      1  \n",
       "21627                      1  \n",
       "2286                       0  \n",
       "22685                      1  \n",
       "\n",
       "[5 rows x 27 columns]"
      ]
     },
     "execution_count": 82,
     "metadata": {},
     "output_type": "execute_result"
    }
   ],
   "source": [
    "bank_df_normal_distributed.head()"
   ]
  },
  {
   "cell_type": "markdown",
   "id": "9e3c8e5f",
   "metadata": {},
   "source": [
    "### Split attributes dan target"
   ]
  },
  {
   "cell_type": "code",
   "execution_count": 83,
   "id": "35a86704",
   "metadata": {},
   "outputs": [],
   "source": [
    "X_train_balanced = bank_df_normal_distributed.drop('berlangganan_deposito',axis=1)\n",
    "y_train_balanced = bank_df_normal_distributed['berlangganan_deposito']"
   ]
  },
  {
   "cell_type": "markdown",
   "id": "76c4a09f",
   "metadata": {},
   "source": [
    "### Lihat distribusi dari data train yang sudah disampling"
   ]
  },
  {
   "cell_type": "code",
   "execution_count": 84,
   "id": "b96d022a",
   "metadata": {},
   "outputs": [
    {
     "name": "stdout",
     "output_type": "stream",
     "text": [
      "Distribusi setiap kelas dari subsampel dataset\n",
      "0    0.5\n",
      "1    0.5\n",
      "Name: berlangganan_deposito, dtype: float64\n"
     ]
    }
   ],
   "source": [
    "print('Distribusi setiap kelas dari subsampel dataset')\n",
    "print(bank_df_normal_distributed['berlangganan_deposito'].value_counts()/len(bank_df_normal_distributed))"
   ]
  },
  {
   "cell_type": "code",
   "execution_count": 85,
   "id": "c8768b43",
   "metadata": {},
   "outputs": [
    {
     "data": {
      "image/png": "[encoded data removed]",
      "text/plain": [
       "<Figure size 1008x504 with 1 Axes>"
      ]
     },
     "metadata": {
      "needs_background": "light"
     },
     "output_type": "display_data"
    }
   ],
   "source": [
    "plt.figure(figsize=(14,7))\n",
    "sns.countplot(x='berlangganan_deposito', data=bank_df_normal_distributed)\n",
    "plt.title('Distribusi kelas yang seimbang', fontsize=12)\n",
    "plt.xlabel('Berlangganan Deposito (Kelas)', fontsize=12)\n",
    "plt.ylabel('Jumlah', fontsize=12)\n",
    "plt.show()"
   ]
  },
  {
   "cell_type": "markdown",
   "id": "c987339b",
   "metadata": {},
   "source": [
    "Data latih kita sudah memiliki proporsi kelas yang seimbang. Kini akan dilakukan training ulang pada model dan melihat evaluasinya dengan scoring **accuracy** karena subsample sudah disampling dengan seimbang"
   ]
  },
  {
   "cell_type": "markdown",
   "id": "919a915d",
   "metadata": {},
   "source": [
    "## Training model dengan kelas data latih yang sudah seimbang"
   ]
  },
  {
   "cell_type": "markdown",
   "id": "01d504cf",
   "metadata": {},
   "source": [
    "### Model Training"
   ]
  },
  {
   "cell_type": "code",
   "execution_count": 86,
   "id": "fd89f03f",
   "metadata": {},
   "outputs": [],
   "source": [
    "cv_results_accuracy, model_names, print_msg_accuracy = perform_model(\n",
    "    models=models,\n",
    "    X_train=X_train_balanced,\n",
    "    y_train=y_train_balanced,\n",
    "    kfold=kfold,\n",
    "    scoring=scoring_accuracy\n",
    ")"
   ]
  },
  {
   "cell_type": "markdown",
   "id": "fca56ecc",
   "metadata": {},
   "source": [
    "### Lihat performa (akurasi) model yang sudah dilatih\n",
    "***\n",
    "Performa ini dilihat dari hasil k-fold cross-validation yang sudah dilakukan"
   ]
  },
  {
   "cell_type": "code",
   "execution_count": 87,
   "id": "ac8cd63f",
   "metadata": {},
   "outputs": [
    {
     "name": "stdout",
     "output_type": "stream",
     "text": [
      "Logistic Regression: mean accuracy = 0.8336032388663968  std accuracy = 0.008298223557162334\n",
      "K-Nearest Neighbor: mean accuracy = 0.7821862348178138  std accuracy = 0.011470191287922149\n",
      "Support Vector Machine: mean accuracy = 0.8666666666666666  std accuracy = 0.012395101218035111\n",
      "Decision Tree: mean accuracy = 0.7840755735492577  std accuracy = 0.009152941947537468\n",
      "Random Forest: mean accuracy = 0.853846153846154  std accuracy = 0.012206326665329023\n",
      "Naive Bayes: mean accuracy = 0.7066126855600539  std accuracy = 0.01911571520607371\n"
     ]
    }
   ],
   "source": [
    "# cetak hasil rata-rata akurasi setiap model\n",
    "for msg in print_msg_accuracy:\n",
    "    print(msg)"
   ]
  },
  {
   "cell_type": "code",
   "execution_count": 88,
   "id": "75ab9109",
   "metadata": {},
   "outputs": [
    {
     "data": {
      "image/png": "[encoded data removed]",
      "text/plain": [
       "<Figure size 576x288 with 1 Axes>"
      ]
     },
     "metadata": {
      "needs_background": "light"
     },
     "output_type": "display_data"
    }
   ],
   "source": [
    "fig = plt.figure(figsize=(10,8))\n",
    "fig.suptitle('Hasil perbandingan akurasi setiap model klasifikasi dengan subsampel seimbang')\n",
    "ax = fig.add_subplot(111)\n",
    "\n",
    "plt.boxplot(cv_results_accuracy)\n",
    "ax.set_xticklabels(model_names, rotation=90)\n",
    "fig.set_size_inches(8,4)\n",
    "plt.show()"
   ]
  },
  {
   "cell_type": "markdown",
   "id": "2e6df58f",
   "metadata": {},
   "source": [
    "**ANALISIS** <br>\n",
    "Model SVM tampil memberikan rata-rata akurasi tertinggi ketika model dilatih dengan data latih yang seimbang."
   ]
  },
  {
   "cell_type": "markdown",
   "id": "6764f68b",
   "metadata": {},
   "source": [
    "### Melihat hasil klasifikasi SVM yang sudah dilatih dengan data uji"
   ]
  },
  {
   "cell_type": "code",
   "execution_count": 89,
   "id": "868875b2",
   "metadata": {},
   "outputs": [],
   "source": [
    "# inisialisasi model\n",
    "svm_balanced = SVC()\n",
    "\n",
    "# fit model into training data\n",
    "svm_balanced.fit(X_train_balanced,y_train_balanced)\n",
    "\n",
    "# get y prediction\n",
    "y_pred_balanced = svm_balanced.predict(X_test_pca)\n"
   ]
  },
  {
   "cell_type": "code",
   "execution_count": 90,
   "id": "1ef026c5",
   "metadata": {},
   "outputs": [
    {
     "name": "stdout",
     "output_type": "stream",
     "text": [
      "Accuracy score SVM with balanced subsample =  0.8391599902889051  %\n",
      "[[6067 1236]\n",
      " [  89  846]]\n",
      "              precision    recall  f1-score   support\n",
      "\n",
      "           0       0.99      0.83      0.90      7303\n",
      "           1       0.41      0.90      0.56       935\n",
      "\n",
      "    accuracy                           0.84      8238\n",
      "   macro avg       0.70      0.87      0.73      8238\n",
      "weighted avg       0.92      0.84      0.86      8238\n",
      "\n"
     ]
    }
   ],
   "source": [
    "# print score\n",
    "print(\"Accuracy score SVM with balanced subsample = \", metrics.accuracy_score(y_test,y_pred_balanced),\" %\")\n",
    "\n",
    "# confusion matrix\n",
    "print(metrics.confusion_matrix(y_test,y_pred_balanced))\n",
    "\n",
    "# hasil klasifikasi\n",
    "print(metrics.classification_report(y_test,y_pred_balanced))"
   ]
  },
  {
   "cell_type": "markdown",
   "id": "6379b1e5",
   "metadata": {},
   "source": [
    "**ANALISIS** <br>\n",
    "Hasil *confusion matrix* pada model SVM yang dilatih dengan sample yang balanced menunjukkan adanya peningkatan nilai **recall** kelas '1'. <br>\n",
    "1. Sebelum dilakukan *under-sampling* nilai recall untuk kelas '1' yaitu 0.44, sedangkan setelah di-*undersampling* menjadi 0.92 (**peningkatannya drastis**) <br>\n",
    "2. Terjadi penurunan **recall** untuk kelas '0' setelah *undersampling* dari 0.93 menjadi 0.83. Penurunannya tidak sebesar pada kenaikan recall untuk kelas '1'\n",
    "3. Model SVM ini juga memberikan nilai akurasi yang terbilang cukup baik sebesar 84,17% <br>\n",
    "\n",
    "**Penting!!** <br>\n",
    "Nilai-nilai yang dihasilkan mungkin bervariasi seiring kode program dijalankan dan komputer yang digunakan. Namun, saat dijalankan SVM muncul memberikan hasil seperti di atas"
   ]
  },
  {
   "cell_type": "markdown",
   "id": "adb1ff3c",
   "metadata": {},
   "source": [
    "## Tuning hyperparameter dari model terbaik\n",
    "***\n",
    "SVM tampil dengan nilai rata-rata akurasi tertinggi serta memberikan hasil recall yang bagus. Selanjutnya hyperparameter dari SVM akan dilakukan tuning untuk bisa mendapatkan performa yang lebih optimal"
   ]
  },
  {
   "cell_type": "code",
   "execution_count": 91,
   "id": "f49c8398",
   "metadata": {},
   "outputs": [],
   "source": [
    "# inisialisasi SVM model\n",
    "svm_params_tuned = SVC()\n",
    "\n",
    "# inisialisasi objek KFold dengan k=10\n",
    "kfold = kfold\n",
    "\n",
    "# inisialisasi daftar hyperparameter yang akan dituning\n",
    "params_grid={\n",
    "    'kernel' : ['linear', 'poly', 'rbf'],\n",
    "    'gamma':['scale','auto'],\n",
    "}\n",
    "\n",
    "# instansiasi grid seach objek\n",
    "grid_svm = GridSearchCV(\n",
    "    estimator= svm_params_tuned,\n",
    "    param_grid=params_grid,\n",
    "    scoring=scoring_accuracy,\n",
    "    cv = kfold\n",
    ")\n",
    "\n",
    "# fit grid objek ke data train\n",
    "grid_results_ = grid_svm.fit(X_train_balanced,y_train_balanced)"
   ]
  },
  {
   "cell_type": "code",
   "execution_count": 92,
   "id": "450abd36",
   "metadata": {},
   "outputs": [
    {
     "name": "stdout",
     "output_type": "stream",
     "text": [
      "Best SVM Hyperparameter: {'gamma': 'scale', 'kernel': 'rbf'}\n",
      "Best SVM Accuracy Score: 0.8666666666666666\n"
     ]
    }
   ],
   "source": [
    "# Cetak hyperparameter yang memberikan hasil terbaik\n",
    "print('Best SVM Hyperparameter: {}'.format(grid_results_.best_params_))\n",
    "print('Best SVM Accuracy Score: {}'.format(grid_results_.best_score_))"
   ]
  },
  {
   "cell_type": "markdown",
   "id": "a80966d4",
   "metadata": {},
   "source": [
    "## Finalisasi Model"
   ]
  },
  {
   "cell_type": "markdown",
   "id": "b28bbd74",
   "metadata": {},
   "source": [
    "### Training model dengan hyperparameter optimal"
   ]
  },
  {
   "cell_type": "code",
   "execution_count": 93,
   "id": "57eb43b3",
   "metadata": {},
   "outputs": [],
   "source": [
    "# instansiasi objek SVM dengan hyperparameter optimal\n",
    "svm_final = SVC(gamma=grid_results_.best_params_['gamma'],kernel=grid_results_.best_params_['kernel'])\n",
    "\n",
    "\n",
    "# training\n",
    "svm_final.fit(X_train_balanced,y_train_balanced)\n",
    "\n",
    "# model evaluation using data testing\n",
    "y_pred_final = svm_final.predict(X_test_pca)"
   ]
  },
  {
   "cell_type": "markdown",
   "id": "07e35bba",
   "metadata": {},
   "source": [
    "### Cetak hasil model yang sudah dievaluasi"
   ]
  },
  {
   "cell_type": "code",
   "execution_count": 94,
   "id": "b48006c2",
   "metadata": {},
   "outputs": [
    {
     "name": "stdout",
     "output_type": "stream",
     "text": [
      "Accuracy score Final Model SVM =  0.8391599902889051  %\n",
      "[[6067 1236]\n",
      " [  89  846]]\n",
      "              precision    recall  f1-score   support\n",
      "\n",
      "           0       0.99      0.83      0.90      7303\n",
      "           1       0.41      0.90      0.56       935\n",
      "\n",
      "    accuracy                           0.84      8238\n",
      "   macro avg       0.70      0.87      0.73      8238\n",
      "weighted avg       0.92      0.84      0.86      8238\n",
      "\n"
     ]
    }
   ],
   "source": [
    "# print score\n",
    "print(\"Accuracy score Final Model SVM = \", metrics.accuracy_score(y_test,y_pred_final),\" %\")\n",
    "\n",
    "# confusion matrix\n",
    "print(metrics.confusion_matrix(y_test,y_pred_final))\n",
    "\n",
    "# hasil klasifikasi\n",
    "print(metrics.classification_report(y_test,y_pred_final))"
   ]
  },
  {
   "cell_type": "markdown",
   "id": "f676b290",
   "metadata": {},
   "source": [
    "Model SVM Final memberikan **recall** untuk kedua kelas yang sangat baik. Pengaturan *hyperparameter* untuk SVM final adalah *kernel* **rbf** dan *gamma* **scale**. Selanjutnya model ini siap untuk masuk ke tahap *deployment*"
   ]
  },
  {
   "cell_type": "code",
   "execution_count": null,
   "id": "218dc545",
   "metadata": {},
   "outputs": [],
   "source": []
  }
 ],
 "metadata": {
  "kernelspec": {
   "display_name": "Python 3 (ipykernel)",
   "language": "python",
   "name": "python3"
  },
  "language_info": {
   "codemirror_mode": {
    "name": "ipython",
    "version": 3
   },
   "file_extension": ".py",
   "mimetype": "text/x-python",
   "name": "python",
   "nbconvert_exporter": "python",
   "pygments_lexer": "ipython3",
   "version": "3.9.12"
  },
  "toc": {
   "base_numbering": 1,
   "nav_menu": {},
   "number_sections": true,
   "sideBar": true,
   "skip_h1_title": false,
   "title_cell": "Table of Contents",
   "title_sidebar": "Contents",
   "toc_cell": false,
   "toc_position": {
    "height": "calc(100% - 180px)",
    "left": "10px",
    "top": "150px",
    "width": "388.449px"
   },
   "toc_section_display": true,
   "toc_window_display": true
  }
 },
 "nbformat": 4,
 "nbformat_minor": 5
}
