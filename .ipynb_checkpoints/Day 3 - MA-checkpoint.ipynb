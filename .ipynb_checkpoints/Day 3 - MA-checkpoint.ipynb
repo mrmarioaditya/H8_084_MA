{
 "cells": [
  {
   "cell_type": "code",
   "execution_count": 22,
   "id": "e579d2cf",
   "metadata": {},
   "outputs": [
    {
     "name": "stdout",
     "output_type": "stream",
     "text": [
      "Masukkan Angka:11\n",
      "Bilangan 11 tergolong bilangan Ganjil\n"
     ]
    }
   ],
   "source": [
    "bil = input(\"Masukkan Angka:\")\n",
    "bil2= int(bil)\n",
    "c = bil2%2\n",
    "\n",
    "if bil2>0:\n",
    "    if c==0 :\n",
    "        print(\"Bilangan\",bil,\"tergolong bilangan Genap\")\n",
    "    \n",
    "    else:\n",
    "        print(\"Bilangan\",bil,\"tergolong bilangan Ganjil\")\n",
    "elif bil2==0:\n",
    "    print(\"Bilangan\",bil,\"bukan tergolong bilangan Genap atau Ganjil\")\n",
    "else:\n",
    "    print(\"Inputan yang benar adalah bilangan bulat positif\")\n",
    "\n",
    "\n",
    "    \n",
    "\n",
    "\n"
   ]
  },
  {
   "cell_type": "code",
   "execution_count": null,
   "id": "0483e564",
   "metadata": {},
   "outputs": [
    {
     "name": "stdout",
     "output_type": "stream",
     "text": [
      "Masukkan angka 1 Untuk Menghitung luas Segitiga\n",
      "Masukkan angka 2 Untuk Menghitung luas Segitiga\n",
      "Pilihan menu yang diinginkan:1\n"
     ]
    }
   ],
   "source": [
    "print(\"Masukkan angka 1 Untuk Menghitung luas Segitiga\")\n",
    "print(\"Masukkan angka 2 Untuk Menghitung luas Segitiga\")\n",
    "\n",
    "Menu = input(\"Pilihan menu yang diinginkan:\")\n",
    "\n",
    "if Menu==\"1\":\n",
    "    a=int(input(\"Masukkan tinggi segitiga:\"))\n",
    "    b=int(input(\"Masukkan alas segitiga:\"))\n",
    "    luas= a*b\n",
    "    print(\"Luas Segitiga tersebut ialah\", luas)\n",
    "    \n",
    "elif Menu==\"2\":\n",
    "    a=int(input(\"Masukkan sisi Persegi\"))\n",
    "    luas= a*a\n",
    "    print(\"Luas Segitiga tersebut ialah\", luas)\n",
    "    \n",
    "\n",
    "\n",
    "\n"
   ]
  },
  {
   "cell_type": "markdown",
   "id": "008cd37e",
   "metadata": {},
   "source": [
    "# "
   ]
  },
  {
   "cell_type": "code",
   "execution_count": 24,
   "id": "ca8edfd0",
   "metadata": {},
   "outputs": [
    {
     "name": "stdout",
     "output_type": "stream",
     "text": [
      "Masukkan Jumlah Hari:398\n",
      "398  Hari =  1  Tahun  1  Bulan 1  Minggu  1 Hari\n"
     ]
    }
   ],
   "source": [
    "Jumlah=int(input(\"Masukkan Jumlah Hari:\"))\n",
    "\n",
    "tahun=int(Jumlah/360)\n",
    "bulan=int((Jumlah-360)/30)\n",
    "minggu=int(((tahun*360)+(bulan*30)-Jumlah)/(-7))\n",
    "hari=int (((tahun*360)+(bulan*30)+(minggu*7)-Jumlah)*(-1))\n",
    "print(Jumlah, \" Hari = \", tahun ,\" Tahun \", bulan , \" Bulan\" , minggu ,\" Minggu \", hari ,\"Hari\")\n",
    "\n",
    "\n"
   ]
  },
  {
   "cell_type": "code",
   "execution_count": null,
   "id": "42ee1767",
   "metadata": {},
   "outputs": [],
   "source": []
  },
  {
   "cell_type": "code",
   "execution_count": null,
   "id": "f535f22c",
   "metadata": {},
   "outputs": [],
   "source": []
  }
 ],
 "metadata": {
  "kernelspec": {
   "display_name": "Python 3 (ipykernel)",
   "language": "python",
   "name": "python3"
  },
  "language_info": {
   "codemirror_mode": {
    "name": "ipython",
    "version": 3
   },
   "file_extension": ".py",
   "mimetype": "text/x-python",
   "name": "python",
   "nbconvert_exporter": "python",
   "pygments_lexer": "ipython3",
   "version": "3.9.12"
  }
 },
 "nbformat": 4,
 "nbformat_minor": 5
}
